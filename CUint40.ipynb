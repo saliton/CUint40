{
  "cells": [
    {
      "cell_type": "markdown",
      "metadata": {
        "id": "Jug0nljfnzPe"
      },
      "source": [
        "# Cで整数を5バイトに押し込む簡単なお仕事"
      ]
    },
    {
      "cell_type": "markdown",
      "metadata": {
        "id": "SBIOTsiE-8l8"
      },
      "source": [
        "ビッグデータを処理するような場合、データの読み込みが律速になることが多いです。その場合、データのストレージ上のサイズが小さくなると読み込み時間が減り、全体の処理時間が半分になったりします。そんな時、整数が40bitで十分ならば、40bitで保持したいですね。というわけで、今まで[Go](https://qiita.com/saliton/items/76781d1462bf04db7557), [Rust](https://qiita.com/saliton/items/07c6ccbaea1af8ff9737)とやってきましたが、処理効率を考えるとCと比較しないわけにはいきません。そこでCでも同様のことをやってみました。比較のため、clangとgccの両方を試します。\n",
        "\n",
        "＊ 以下のコードは全てリトルエンディアンを前提にしております。ビッグエンディアン下の場合は意図しない結果になります。ご注意ください。"
      ]
    },
    {
      "cell_type": "markdown",
      "metadata": {
        "id": "E4q2-0YydOYu"
      },
      "source": [
        "## 64bit整数の8バイト配列化"
      ]
    },
    {
      "cell_type": "markdown",
      "metadata": {
        "id": "_FafCBqv84Lb"
      },
      "source": [
        "まずは愚直な方法"
      ]
    },
    {
      "cell_type": "code",
      "execution_count": null,
      "metadata": {
        "colab": {
          "base_uri": "https://localhost:8080/"
        },
        "id": "lE2ajyy1rH5_",
        "outputId": "5cec2c2a-5d1f-4c65-e4fe-73fb80436627"
      },
      "outputs": [
        {
          "name": "stdout",
          "output_type": "stream",
          "text": [
            "Overwriting main.c\n"
          ]
        }
      ],
      "source": [
        "%%writefile main.c\n",
        "#include <stdio.h>\n",
        "#include <stdlib.h>\n",
        "#include <stdint.h>\n",
        "#include <time.h>\n",
        "\n",
        "#define COUNT 10000000000\n",
        "#define SIZE 100000\n",
        "\n",
        "int main(int argc, char **argv)\n",
        "{\n",
        "    uint64_t vs[SIZE];\n",
        "    for (int i = 0; i < SIZE; i += 1) {\n",
        "        vs[i] = rand();\n",
        "    }\n",
        "    uint8_t buf[SIZE][8];\n",
        "\n",
        "    // 計測開始\n",
        "    clock_t start_clock, end_clock;\n",
        "    start_clock = clock();\n",
        "    for (size_t i = 0; i < COUNT/SIZE; i++) {\n",
        "        for (size_t idx = 0; idx < SIZE; idx++) {\n",
        "            uint64_t v = vs[idx];\n",
        "            for (uint8_t j = 0; j < 8; j++) {\n",
        "                buf[idx][j] = v >> (8 * j);\n",
        "            }\n",
        "        }\n",
        "    }\n",
        "    end_clock = clock();\n",
        "    // 計測終了\n",
        "\n",
        "    printf(\"%f sec\\n\", (double)(end_clock - start_clock) / CLOCKS_PER_SEC);\n",
        "    for (int i = 0; i < 8; i++) printf(\"%d \", buf[0][i]);\n",
        "    printf(\"\\n\");\n",
        "    uint64_t total = 0;\n",
        "    for (size_t i = 0; i < SIZE; i += 1) {\n",
        "        for (size_t j = 0; j < 8; j += 1) {\n",
        "            total += buf[i][j];\n",
        "        }\n",
        "    }\n",
        "    printf(\"%lu\\n\", total); \n",
        "    return 0;\n",
        "}"
      ]
    },
    {
      "cell_type": "code",
      "execution_count": null,
      "metadata": {
        "colab": {
          "base_uri": "https://localhost:8080/"
        },
        "id": "Ae53coZjrHjm",
        "outputId": "f02f45e5-1707-43b5-992a-a3067d210779"
      },
      "outputs": [
        {
          "name": "stdout",
          "output_type": "stream",
          "text": [
            "38.229933 sec\n",
            "103 69 139 107 0 0 0 0 \n",
            "44595596\n",
            "33.922214 sec\n",
            "103 69 139 107 0 0 0 0 \n",
            "44595596\n"
          ]
        }
      ],
      "source": [
        "!clang -Wall -Ofast main.c\n",
        "!./a.out\n",
        "!gcc -Wall -Ofast main.c\n",
        "!./a.out"
      ]
    },
    {
      "cell_type": "markdown",
      "metadata": {
        "id": "mTyMJY9i8gxw"
      },
      "source": [
        "Goでは138秒、Rustでは8秒ですから、Goよりは速いですが、Rustより相当遅い。オプティマイザの性能の違いでしょうか。"
      ]
    },
    {
      "cell_type": "markdown",
      "metadata": {
        "id": "Gx6L-1QB9x4D"
      },
      "source": [
        "それでは定石通り、内側のfor文を展開しましょう。"
      ]
    },
    {
      "cell_type": "code",
      "execution_count": null,
      "metadata": {
        "colab": {
          "base_uri": "https://localhost:8080/"
        },
        "id": "TZT4_VeQ3NT1",
        "outputId": "1fd9b1c7-d7df-4345-e362-ef2c03ed03a4"
      },
      "outputs": [
        {
          "name": "stdout",
          "output_type": "stream",
          "text": [
            "Overwriting main.c\n"
          ]
        }
      ],
      "source": [
        "%%writefile main.c\n",
        "#include <stdio.h>\n",
        "#include <stdlib.h>\n",
        "#include <stdint.h>\n",
        "#include <time.h>\n",
        "\n",
        "#define COUNT 10000000000\n",
        "#define SIZE 100000\n",
        "\n",
        "int main(int argc, char **argv)\n",
        "{\n",
        "    uint64_t vs[SIZE];\n",
        "    for (int i = 0; i < SIZE; i += 1) {\n",
        "        vs[i] = rand();\n",
        "    }\n",
        "    uint8_t buf[SIZE][8];\n",
        "\n",
        "    // 計測開始\n",
        "    clock_t start_clock, end_clock;\n",
        "    start_clock = clock();\n",
        "    for (size_t i = 0; i < COUNT/SIZE; i++) {\n",
        "        for (size_t idx = 0; idx < SIZE; idx++) {\n",
        "            uint64_t v = vs[idx];\n",
        "            uint8_t *p = (uint8_t*)&buf[idx];\n",
        "            p[0] = v;\n",
        "            p[1] = v >> 8;\n",
        "            p[2] = v >> 16;\n",
        "            p[3] = v >> 24;\n",
        "            p[4] = v >> 32;\n",
        "            p[5] = v >> 40;\n",
        "            p[6] = v >> 48;\n",
        "            p[7] = v >> 56;\n",
        "        }\n",
        "    }\n",
        "    end_clock = clock();\n",
        "    // 計測終了\n",
        "\n",
        "    printf(\"%f sec\\n\", (double)(end_clock - start_clock) / CLOCKS_PER_SEC);\n",
        "    for (int i = 0; i < 8; i++) printf(\"%d \", buf[0][i]);\n",
        "    printf(\"\\n\");\n",
        "    uint64_t total = 0;\n",
        "    for (size_t i = 0; i < SIZE; i += 1) {\n",
        "        for (size_t j = 0; j < 8; j += 1) {\n",
        "            total += buf[i][j];\n",
        "        }\n",
        "    }\n",
        "    printf(\"%lu\\n\", total); \n",
        "    return 0;\n",
        "}"
      ]
    },
    {
      "cell_type": "code",
      "execution_count": null,
      "metadata": {
        "colab": {
          "base_uri": "https://localhost:8080/"
        },
        "id": "SvPW8hGCKFRn",
        "outputId": "0e31695c-198e-460b-98d3-520fcb3f48e1"
      },
      "outputs": [
        {
          "name": "stdout",
          "output_type": "stream",
          "text": [
            "33.967889 sec\n",
            "103 69 139 107 0 0 0 0 \n",
            "44595596\n",
            "33.866115 sec\n",
            "103 69 139 107 0 0 0 0 \n",
            "44595596\n"
          ]
        }
      ],
      "source": [
        "!clang -Wall -Ofast main.c\n",
        "!./a.out\n",
        "!gcc -Wall -Ofast main.c\n",
        "!./a.out"
      ]
    },
    {
      "cell_type": "markdown",
      "metadata": {
        "id": "jpdrzMQw-CTb"
      },
      "source": [
        "Goはこれで40秒にまで改善されましたが、Cでは改善されませんでした。"
      ]
    },
    {
      "cell_type": "markdown",
      "metadata": {
        "id": "6AzFHFJ4Daov"
      },
      "source": [
        "さて、Goではポインターを使うことで8秒、Rustではライブラリを使って4秒まで短縮されました。Cではどうでしょうか。ポインターを使ってみます。"
      ]
    },
    {
      "cell_type": "code",
      "execution_count": null,
      "metadata": {
        "colab": {
          "base_uri": "https://localhost:8080/"
        },
        "id": "9S-sHhdwKH0z",
        "outputId": "5684a69c-4aeb-44af-a5b7-a0f6015d6605"
      },
      "outputs": [
        {
          "name": "stdout",
          "output_type": "stream",
          "text": [
            "Overwriting main.c\n"
          ]
        }
      ],
      "source": [
        "%%writefile main.c\n",
        "#include <stdio.h>\n",
        "#include <stdlib.h>\n",
        "#include <stdint.h>\n",
        "#include <time.h>\n",
        "\n",
        "#define COUNT 10000000000\n",
        "#define SIZE 100000\n",
        "\n",
        "int main(int argc, char **argv)\n",
        "{\n",
        "    uint64_t vs[SIZE];\n",
        "    for (int i = 0; i < SIZE; i += 1) {\n",
        "        vs[i] = rand();\n",
        "    }\n",
        "    uint8_t buf[SIZE][8];\n",
        "\n",
        "    // 計測開始\n",
        "    clock_t start_clock, end_clock;\n",
        "    start_clock = clock();\n",
        "    for (size_t i = 0; i < COUNT/SIZE; i++) {\n",
        "        for (size_t idx = 0; idx < SIZE; idx++) {\n",
        "            *(uint64_t*)&buf[idx] = vs[idx];\n",
        "        }\n",
        "    }\n",
        "    end_clock = clock();\n",
        "    // 計測終了\n",
        " \n",
        "    printf(\"%f sec\\n\", (double)(end_clock - start_clock) / CLOCKS_PER_SEC);\n",
        "    for (int i = 0; i < 8; i++) printf(\"%d \", buf[0][i]);\n",
        "    printf(\"\\n\");\n",
        "    uint64_t total = 0;\n",
        "    for (size_t i = 0; i < SIZE; i += 1) {\n",
        "        for (size_t j = 0; j < 8; j += 1) {\n",
        "            total += buf[i][j];\n",
        "        }\n",
        "    }\n",
        "    printf(\"%lu\\n\", total);\n",
        "    return 0;\n",
        "}"
      ]
    },
    {
      "cell_type": "code",
      "execution_count": null,
      "metadata": {
        "colab": {
          "base_uri": "https://localhost:8080/"
        },
        "id": "vyqr5eIPcclg",
        "outputId": "4f392ce4-b221-41b2-c532-1eedf1c68923"
      },
      "outputs": [
        {
          "name": "stdout",
          "output_type": "stream",
          "text": [
            "3.651615 sec\n",
            "103 69 139 107 0 0 0 0 \n",
            "44595596\n",
            "3.666405 sec\n",
            "103 69 139 107 0 0 0 0 \n",
            "44595596\n"
          ]
        }
      ],
      "source": [
        "!clang -Wall -Ofast main.c\n",
        "!./a.out\n",
        "!gcc -Wall -Ofast main.c\n",
        "!./a.out"
      ]
    },
    {
      "cell_type": "markdown",
      "metadata": {
        "id": "4NWaDNTyrBOm"
      },
      "source": [
        "Rustと同程度の速度です。ぎりぎりCの面目を保った感じです。"
      ]
    },
    {
      "cell_type": "markdown",
      "metadata": {
        "id": "fGBjk1tFnowv"
      },
      "source": [
        "## 8バイト配列から64bit整数への変換"
      ]
    },
    {
      "cell_type": "markdown",
      "metadata": {
        "id": "WPkBvh-oFULO"
      },
      "source": [
        "まずは素朴な実装"
      ]
    },
    {
      "cell_type": "code",
      "execution_count": null,
      "metadata": {
        "colab": {
          "base_uri": "https://localhost:8080/"
        },
        "id": "HNfasemcv368",
        "outputId": "d49d0707-79dd-49ed-aa09-cc81ff497b6a"
      },
      "outputs": [
        {
          "name": "stdout",
          "output_type": "stream",
          "text": [
            "Overwriting main.c\n"
          ]
        }
      ],
      "source": [
        "%%writefile main.c\n",
        "#include <stdio.h>\n",
        "#include <stdlib.h>\n",
        "#include <stdint.h>\n",
        "#include <time.h>\n",
        "\n",
        "#define COUNT 10000000000\n",
        "#define SIZE 100000\n",
        "\n",
        "int main(int argc, char **argv)\n",
        "{\n",
        "    uint64_t vs[SIZE];\n",
        "    uint8_t buf[SIZE][8];\n",
        "    srand(0);\n",
        "    for (int i = 0; i < SIZE; i += 1) {\n",
        "        for (int j = 0; j < 8; j += 1) {\n",
        "            buf[i][j] = (uint8_t)rand();\n",
        "        }\n",
        "    }\n",
        "\n",
        "    // 計測開始\n",
        "    clock_t start_clock, end_clock;\n",
        "    start_clock = clock();\n",
        "    for (size_t i = 0; i < COUNT/SIZE; i++) {\n",
        "        for (size_t idx = 0; idx < SIZE; idx++) {\n",
        "            uint8_t *b = (uint8_t*)&buf[idx];\n",
        "            uint64_t v = 0;\n",
        "            for (int j = 0; j < 8; j += 1) {\n",
        "                v += ((uint64_t)b[j] << (8 * j));\n",
        "            }\n",
        "            vs[idx] = v;\n",
        "        }\n",
        "    }\n",
        "    end_clock = clock();\n",
        "    // 計測終了\n",
        " \n",
        "    printf(\"%f sec\\n\", (double)(end_clock - start_clock) / CLOCKS_PER_SEC);\n",
        "    printf(\"%lu\\n\", vs[0]);\n",
        "    uint64_t total = 0;\n",
        "    for (size_t i = 0; i < SIZE; i += 1) {\n",
        "        total += vs[i];\n",
        "    }\n",
        "    printf(\"%lu\\n\", total);\n",
        "    return 0;\n",
        "}"
      ]
    },
    {
      "cell_type": "code",
      "execution_count": null,
      "metadata": {
        "colab": {
          "base_uri": "https://localhost:8080/"
        },
        "id": "QuM0e9lSv40N",
        "outputId": "e0706314-829e-4cf4-94b4-da27ea3904f9"
      },
      "outputs": [
        {
          "name": "stdout",
          "output_type": "stream",
          "text": [
            "23.052630 sec\n",
            "17026702066521327207\n",
            "3501406831367042067\n",
            "34.285194 sec\n",
            "17026702066521327207\n",
            "3501406831367042067\n"
          ]
        }
      ],
      "source": [
        "!clang -Wall -Ofast main.c\n",
        "!./a.out\n",
        "!gcc -Wall -Ofast main.c\n",
        "!./a.out"
      ]
    },
    {
      "cell_type": "markdown",
      "metadata": {
        "id": "WWukRLhZFjW9"
      },
      "source": [
        "Goで172秒、Rustで12秒ですから、微妙です。ここでclangとgccで違いが出ました。"
      ]
    },
    {
      "cell_type": "markdown",
      "metadata": {
        "id": "IZ92_CLSG1As"
      },
      "source": [
        "あまり期待できませんが、念の為、内側のfor文を展開します。"
      ]
    },
    {
      "cell_type": "code",
      "execution_count": null,
      "metadata": {
        "colab": {
          "base_uri": "https://localhost:8080/"
        },
        "id": "aChheFBVF35c",
        "outputId": "bb12c394-1b02-4bf9-cba3-3830bf36f8e5"
      },
      "outputs": [
        {
          "name": "stdout",
          "output_type": "stream",
          "text": [
            "Overwriting main.c\n"
          ]
        }
      ],
      "source": [
        "%%writefile main.c\n",
        "#include <stdio.h>\n",
        "#include <stdlib.h>\n",
        "#include <stdint.h>\n",
        "#include <time.h>\n",
        "\n",
        "#define COUNT 10000000000\n",
        "#define SIZE 100000\n",
        "\n",
        "int main(int argc, char **argv)\n",
        "{\n",
        "    uint64_t vs[SIZE];\n",
        "    uint8_t buf[SIZE][8];\n",
        "    srand(0);\n",
        "    for (int i = 0; i < SIZE; i += 1) {\n",
        "        for (int j = 0; j < 8; j += 1) {\n",
        "            buf[i][j] = (uint8_t)rand();\n",
        "        }\n",
        "    }\n",
        "\n",
        "    // 計測開始\n",
        "    clock_t start_clock, end_clock;\n",
        "    start_clock = clock();\n",
        "    for (size_t i = 0; i < COUNT/SIZE; i++) {\n",
        "        for (size_t idx = 0; idx < SIZE; idx++) {\n",
        "            uint8_t *b = (uint8_t*)&buf[idx];\n",
        "            uint64_t v = (uint64_t)b[0];\n",
        "            v += (uint64_t)b[1] << 8;\n",
        "            v += (uint64_t)b[2] << 16;\n",
        "            v += (uint64_t)b[3] << 24;\n",
        "            v += (uint64_t)b[4] << 32;\n",
        "            v += (uint64_t)b[5] << 40;\n",
        "            v += (uint64_t)b[6] << 48;\n",
        "            v += (uint64_t)b[7] << 56;\n",
        "            vs[idx] = v;\n",
        "        }\n",
        "    }\n",
        "    end_clock = clock();\n",
        "    // 計測終了\n",
        " \n",
        "    printf(\"%f sec\\n\", (double)(end_clock - start_clock) / CLOCKS_PER_SEC);\n",
        "    printf(\"%lu\\n\", vs[0]);\n",
        "    uint64_t total = 0;\n",
        "    for (size_t i = 0; i < SIZE; i += 1) {\n",
        "        total += vs[i];\n",
        "    }\n",
        "    printf(\"%lu\\n\", total);\n",
        "    return 0;\n",
        "}"
      ]
    },
    {
      "cell_type": "code",
      "execution_count": null,
      "metadata": {
        "colab": {
          "base_uri": "https://localhost:8080/"
        },
        "id": "ylp-aj-dF4bL",
        "outputId": "833de4a0-14da-431b-a188-226cfcd794d4"
      },
      "outputs": [
        {
          "name": "stdout",
          "output_type": "stream",
          "text": [
            "23.004253 sec\n",
            "17026702066521327207\n",
            "3501406831367042067\n",
            "22.974351 sec\n",
            "17026702066521327207\n",
            "3501406831367042067\n"
          ]
        }
      ],
      "source": [
        "!clang -Wall -Ofast main.c\n",
        "!./a.out\n",
        "!clang -Wall -Ofast main.c\n",
        "!./a.out"
      ]
    },
    {
      "cell_type": "markdown",
      "metadata": {
        "id": "9dYY06O2G-R1"
      },
      "source": [
        "やはり変わりません。ちなみにGoでは39秒、Rustでは19秒でした。Rustでは展開したほうが遅くなりました。と思ったら、gccの方が改善されています。gccではfor文の展開の最適化はなされないのでしょうか。"
      ]
    },
    {
      "cell_type": "markdown",
      "metadata": {
        "id": "CB-ZQe5SIGcq"
      },
      "source": [
        "それでは本命のポインターによる実装です。"
      ]
    },
    {
      "cell_type": "code",
      "execution_count": null,
      "metadata": {
        "colab": {
          "base_uri": "https://localhost:8080/"
        },
        "id": "9vEaDnC0teSH",
        "outputId": "93398e4a-fed0-4e80-f85e-3369197d523f"
      },
      "outputs": [
        {
          "name": "stdout",
          "output_type": "stream",
          "text": [
            "Overwriting main.c\n"
          ]
        }
      ],
      "source": [
        "%%writefile main.c\n",
        "#include <stdio.h>\n",
        "#include <stdlib.h>\n",
        "#include <stdint.h>\n",
        "#include <time.h>\n",
        "\n",
        "#define COUNT 10000000000\n",
        "#define SIZE 100000\n",
        "\n",
        "int main(int argc, char **argv)\n",
        "{\n",
        "    uint64_t vs[SIZE];\n",
        "    uint8_t buf[SIZE][8];\n",
        "    srand(0);\n",
        "    for (int i = 0; i < SIZE; i += 1) {\n",
        "        for (int j = 0; j < 8; j += 1) {\n",
        "            buf[i][j] = (uint8_t)rand();\n",
        "        }\n",
        "    }\n",
        "\n",
        "    // 計測開始\n",
        "    clock_t start_clock, end_clock;\n",
        "    start_clock = clock();\n",
        "    for (size_t i = 0; i < COUNT/SIZE; i++) {\n",
        "        for (size_t idx = 0; idx < SIZE; idx++) {\n",
        "            vs[idx] = *(uint64_t*)&buf[idx];\n",
        "        }\n",
        "    }\n",
        "    end_clock = clock();\n",
        "    // 計測終了\n",
        " \n",
        "    printf(\"%f sec\\n\", (double)(end_clock - start_clock) / CLOCKS_PER_SEC);\n",
        "    printf(\"%lu\\n\", vs[0]);\n",
        "    uint64_t total = 0;\n",
        "    for (size_t i = 0; i < SIZE; i += 1) {\n",
        "        total += vs[i];\n",
        "    }\n",
        "    printf(\"%lu\\n\", total);\n",
        "    return 0;\n",
        "}"
      ]
    },
    {
      "cell_type": "code",
      "execution_count": null,
      "metadata": {
        "colab": {
          "base_uri": "https://localhost:8080/"
        },
        "id": "HBfkWq9nvIfn",
        "outputId": "363553b4-200e-4d09-e9ef-ff8795be82c9"
      },
      "outputs": [
        {
          "name": "stdout",
          "output_type": "stream",
          "text": [
            "3.775831 sec\n",
            "17026702066521327207\n",
            "3501406831367042067\n",
            "3.784493 sec\n",
            "17026702066521327207\n",
            "3501406831367042067\n"
          ]
        }
      ],
      "source": [
        "!clang -Wall -Ofast main.c\n",
        "!./a.out\n",
        "!gcc -Wall -Ofast main.c\n",
        "!./a.out"
      ]
    },
    {
      "cell_type": "markdown",
      "metadata": {
        "id": "ygFOhkAtx15Y"
      },
      "source": [
        "さすがC。Goで13秒、Rustで6秒でしたから、相当速い。\n",
        "\n",
        "ただ、同様にポインターを使用したRustが遅いのが気になります。Rustの実装は、\n",
        "```\n",
        "*(buf[idx].as_ptr() as *mut u64)\n",
        "```\n",
        "なのですが、as_ptr()の呼び出しに何らかのコストがかかっていると思われます。なにかもっといい方法があるかもしれません。\n"
      ]
    },
    {
      "cell_type": "markdown",
      "metadata": {
        "id": "-fMdlA0ayncR"
      },
      "source": [
        "## 40bit整数の5バイト配列化"
      ]
    },
    {
      "cell_type": "markdown",
      "metadata": {
        "id": "G64mg0aaPZj8"
      },
      "source": [
        "まずは素朴な実装"
      ]
    },
    {
      "cell_type": "code",
      "execution_count": null,
      "metadata": {
        "colab": {
          "base_uri": "https://localhost:8080/"
        },
        "id": "G8eHktAyzcfG",
        "outputId": "724fed5a-ea1e-4cc2-dd03-40e48de09ab0"
      },
      "outputs": [
        {
          "name": "stdout",
          "output_type": "stream",
          "text": [
            "Overwriting main.c\n"
          ]
        }
      ],
      "source": [
        "%%writefile main.c\n",
        "#include <stdio.h>\n",
        "#include <stdlib.h>\n",
        "#include <stdint.h>\n",
        "#include <time.h>\n",
        "\n",
        "#define COUNT 10000000000\n",
        "#define SIZE 100000\n",
        "\n",
        "int main(int argc, char **argv)\n",
        "{\n",
        "    uint64_t vs[SIZE];\n",
        "    for (int i = 0; i < SIZE; i += 1) {\n",
        "        vs[i] = rand() & 0xFFFFFFFFFF;\n",
        "    }\n",
        "    uint8_t buf[SIZE][5];\n",
        "\n",
        "    // 計測開始\n",
        "    clock_t start_clock, end_clock;\n",
        "    start_clock = clock();\n",
        "    for (size_t i = 0; i < COUNT/SIZE; i++) {\n",
        "        for (size_t idx = 0; idx < SIZE; idx++) {\n",
        "            uint64_t v = vs[idx];\n",
        "            uint8_t *b = (uint8_t*)buf[idx];\n",
        "            for (uint8_t j = 0; j < 5; j++) {\n",
        "                b[j] = v >> (8 * j);\n",
        "            }\n",
        "        }\n",
        "    }\n",
        "    end_clock = clock();\n",
        "    // 計測終了\n",
        " \n",
        "    printf(\"%f sec\\n\", (double)(end_clock - start_clock) / CLOCKS_PER_SEC);\n",
        "    for (int i = 0; i < 5; i++) printf(\"%d \", buf[0][i]);\n",
        "    printf(\"\\n\");\n",
        "    uint64_t total = 0;\n",
        "    for (size_t i = 0; i < SIZE; i += 1) {\n",
        "        for (size_t j = 0; j < 5; j += 1) {\n",
        "            total += buf[i][j];\n",
        "        }\n",
        "    }\n",
        "    printf(\"%lu\\n\", total); \n",
        "    return 0;\n",
        "}"
      ]
    },
    {
      "cell_type": "code",
      "execution_count": null,
      "metadata": {
        "colab": {
          "base_uri": "https://localhost:8080/"
        },
        "id": "eWNMDxsXzcTp",
        "outputId": "1a96944a-5f68-4629-e2cf-e568deda47ea"
      },
      "outputs": [
        {
          "name": "stdout",
          "output_type": "stream",
          "text": [
            "21.516869 sec\n",
            "103 69 139 107 0 \n",
            "44595596\n",
            "22.535876 sec\n",
            "103 69 139 107 0 \n",
            "44595596\n"
          ]
        }
      ],
      "source": [
        "!clang -Wall -Ofast main.c\n",
        "!./a.out\n",
        "!gcc -Wall -Ofast main.c\n",
        "!./a.out"
      ]
    },
    {
      "cell_type": "markdown",
      "metadata": {
        "id": "qvSKao-8PfC7"
      },
      "source": [
        "８バイトの時は34秒でしたから、5バイトに減った分だけ順当に短縮されています。ちなみにGoでは90秒、Rustでは22秒でした。"
      ]
    },
    {
      "cell_type": "markdown",
      "metadata": {
        "id": "fMIXw7CHJmDr"
      },
      "source": [
        "次に内側のfor文の展開"
      ]
    },
    {
      "cell_type": "code",
      "execution_count": null,
      "metadata": {
        "colab": {
          "base_uri": "https://localhost:8080/"
        },
        "id": "YwyJVzqLITyQ",
        "outputId": "0992f43b-f395-4cb4-b261-4c06de051333"
      },
      "outputs": [
        {
          "name": "stdout",
          "output_type": "stream",
          "text": [
            "Overwriting main.c\n"
          ]
        }
      ],
      "source": [
        "%%writefile main.c\n",
        "#include <stdio.h>\n",
        "#include <stdlib.h>\n",
        "#include <stdint.h>\n",
        "#include <time.h>\n",
        "\n",
        "#define COUNT 10000000000\n",
        "#define SIZE 100000\n",
        "\n",
        "int main(int argc, char **argv)\n",
        "{\n",
        "    uint64_t vs[SIZE];\n",
        "    for (int i = 0; i < SIZE; i += 1) {\n",
        "        vs[i] = rand() & 0xFFFFFFFFFF;\n",
        "    }\n",
        "    uint8_t buf[SIZE][5];\n",
        "\n",
        "    // 計測開始\n",
        "    clock_t start_clock, end_clock;\n",
        "    start_clock = clock();\n",
        "    for (size_t i = 0; i < COUNT/SIZE; i++) {\n",
        "        for (size_t idx = 0; idx < SIZE; idx++) {\n",
        "            uint64_t v = vs[idx];\n",
        "            uint8_t *b = (uint8_t*)buf[idx];\n",
        "            b[0] = v;\n",
        "            b[1] = v << 8;\n",
        "            b[2] = v << 16;\n",
        "            b[3] = v << 24;\n",
        "            b[4] = v << 32;\n",
        "        }\n",
        "    }\n",
        "    end_clock = clock();\n",
        "    // 計測終了\n",
        " \n",
        "    printf(\"%f sec\\n\", (double)(end_clock - start_clock) / CLOCKS_PER_SEC);\n",
        "    for (int i = 0; i < 5; i++) printf(\"%d \", buf[0][i]);\n",
        "    printf(\"\\n\");\n",
        "    uint64_t total = 0;\n",
        "    for (size_t i = 0; i < SIZE; i += 1) {\n",
        "        for (size_t j = 0; j < 5; j += 1) {\n",
        "            total += buf[i][j];\n",
        "        }\n",
        "    }\n",
        "    printf(\"%lu\\n\", total); \n",
        "    return 0;\n",
        "}"
      ]
    },
    {
      "cell_type": "code",
      "execution_count": null,
      "metadata": {
        "colab": {
          "base_uri": "https://localhost:8080/"
        },
        "id": "tlFMkaMPITnT",
        "outputId": "c448ea3e-f4fc-4909-cab9-380a2c5878ed"
      },
      "outputs": [
        {
          "name": "stdout",
          "output_type": "stream",
          "text": [
            "10.166103 sec\n",
            "103 0 0 0 0 \n",
            "12778410\n",
            "10.255147 sec\n",
            "103 0 0 0 0 \n",
            "12778410\n"
          ]
        }
      ],
      "source": [
        "!clang -Wall -Ofast main.c\n",
        "!./a.out\n",
        "!gcc -Wall -Ofast main.c\n",
        "!./a.out"
      ]
    },
    {
      "cell_type": "markdown",
      "metadata": {
        "id": "VpATg0yNJ2EA"
      },
      "source": [
        "こちらはclangもgccも速くなりました。最適化でどのような時にfor文の展開が行われるのか予測が難しい。"
      ]
    },
    {
      "cell_type": "markdown",
      "metadata": {
        "id": "_52y57pOSY2g"
      },
      "source": [
        "それではmemcpy()を使ってみましょう。"
      ]
    },
    {
      "cell_type": "code",
      "execution_count": null,
      "metadata": {
        "colab": {
          "base_uri": "https://localhost:8080/"
        },
        "id": "PR9KZKQy0hux",
        "outputId": "884c1900-2d72-49a7-bb72-a6e981fca02d"
      },
      "outputs": [
        {
          "name": "stdout",
          "output_type": "stream",
          "text": [
            "Overwriting main.c\n"
          ]
        }
      ],
      "source": [
        "%%writefile main.c\n",
        "#include <stdio.h>\n",
        "#include <stdlib.h>\n",
        "#include <stdint.h>\n",
        "#include <time.h>\n",
        "#include <string.h>\n",
        "\n",
        "#define COUNT 10000000000\n",
        "#define SIZE 100000\n",
        "\n",
        "int main(int argc, char **argv)\n",
        "{\n",
        "    uint64_t vs[SIZE];\n",
        "    for (int i = 0; i < SIZE; i += 1) {\n",
        "        vs[i] = rand() & 0xFFFFFFFFFF;\n",
        "    }\n",
        "    uint8_t buf[SIZE][5];\n",
        "\n",
        "    // 計測開始\n",
        "    clock_t start_clock, end_clock;\n",
        "    start_clock = clock();\n",
        "    for (size_t i = 0; i < COUNT/SIZE; i++) {\n",
        "        for (size_t idx = 0; idx < SIZE; idx++) {\n",
        "            memcpy((void*)&buf[idx], (void*)&vs[idx], 5);\n",
        "        }\n",
        "    }\n",
        "    end_clock = clock();\n",
        "    // 計測終了\n",
        " \n",
        "    printf(\"%f sec\\n\", (double)(end_clock - start_clock) / CLOCKS_PER_SEC);\n",
        "    for (int i = 0; i < 5; i++) printf(\"%d \", buf[0][i]);\n",
        "    printf(\"\\n\");\n",
        "    uint64_t total = 0;\n",
        "    for (size_t i = 0; i < SIZE; i += 1) {\n",
        "        for (size_t j = 0; j < 5; j += 1) {\n",
        "            total += buf[i][j];\n",
        "        }\n",
        "    }\n",
        "    printf(\"%lu\\n\", total); \n",
        "    return 0;\n",
        "}"
      ]
    },
    {
      "cell_type": "code",
      "execution_count": null,
      "metadata": {
        "colab": {
          "base_uri": "https://localhost:8080/"
        },
        "id": "WhwRGugm0hpC",
        "outputId": "232c69b6-9707-4c19-d5c7-cacad44ef487"
      },
      "outputs": [
        {
          "name": "stdout",
          "output_type": "stream",
          "text": [
            "10.927191 sec\n",
            "103 69 139 107 0 \n",
            "44595596\n",
            "10.154510 sec\n",
            "103 69 139 107 0 \n",
            "44595596\n"
          ]
        }
      ],
      "source": [
        "!clang -Wall -Ofast main.c\n",
        "!./a.out\n",
        "!gcc -Wall -Ofast main.c\n",
        "!./a.out"
      ]
    },
    {
      "cell_type": "markdown",
      "metadata": {
        "id": "L1m2lpD6S3J1"
      },
      "source": [
        "for文を展開した時や、Rustで関数を利用した時と同程度になりました。Rustでも関数内部でmemcpy（）を使っているのかもしれません。\n",
        "ちなみにGoの最速も同程度です。"
      ]
    },
    {
      "cell_type": "markdown",
      "metadata": {
        "id": "j1iKbNyTUKF8"
      },
      "source": [
        "次に、５バイトを4バイトと1バイトに分けて複製する方法を実装します。4バイトをuint32_tとして一命令で複製できるのが強みです。ただ、このコードはリトルエンディアンが前提なので、ご注意ください。"
      ]
    },
    {
      "cell_type": "code",
      "execution_count": null,
      "metadata": {
        "colab": {
          "base_uri": "https://localhost:8080/"
        },
        "id": "OXmggqQU3OaZ",
        "outputId": "54fb3bb3-c7fd-443e-eabf-ead928b1a4f6"
      },
      "outputs": [
        {
          "name": "stdout",
          "output_type": "stream",
          "text": [
            "Overwriting main.c\n"
          ]
        }
      ],
      "source": [
        "%%writefile main.c\n",
        "#include <stdio.h>\n",
        "#include <stdlib.h>\n",
        "#include <stdint.h>\n",
        "#include <time.h>\n",
        "#include <string.h>\n",
        "\n",
        "#define COUNT 10000000000\n",
        "#define SIZE 100000\n",
        "\n",
        "int main(int argc, char **argv)\n",
        "{\n",
        "    uint64_t vs[SIZE];\n",
        "    for (int i = 0; i < SIZE; i += 1) {\n",
        "        vs[i] = rand() & 0xFFFFFFFFFF;\n",
        "    }\n",
        "    uint8_t buf[SIZE][5];\n",
        "\n",
        "    // 計測開始\n",
        "    clock_t start_clock, end_clock;\n",
        "    start_clock = clock();\n",
        "    for (size_t i = 0; i < COUNT/SIZE; i++) {\n",
        "        for (size_t idx = 0; idx < SIZE; idx++) {\n",
        "            uint64_t v = vs[idx];\n",
        "            uint8_t *b = (uint8_t*)buf[idx];\n",
        "            *(uint32_t*)b = *(uint32_t*)&v;\n",
        "            b[4] = ((uint8_t*)&v)[4];\n",
        "            //b[4] = (uint8_t)(v >> 32);\n",
        "        }\n",
        "    }\n",
        "    end_clock = clock();\n",
        "    // 計測終了\n",
        " \n",
        "    printf(\"%f sec\\n\", (double)(end_clock - start_clock) / CLOCKS_PER_SEC);\n",
        "    for (int i = 0; i < 5; i++) printf(\"%d \", buf[0][i]);\n",
        "    printf(\"\\n\");\n",
        "    uint64_t total = 0;\n",
        "    for (size_t i = 0; i < SIZE; i += 1) {\n",
        "        for (size_t j = 0; j < 5; j += 1) {\n",
        "            total += buf[i][j];\n",
        "        }\n",
        "    }\n",
        "    printf(\"%lu\\n\", total); \n",
        "    return 0;\n",
        "}"
      ]
    },
    {
      "cell_type": "code",
      "execution_count": null,
      "metadata": {
        "colab": {
          "base_uri": "https://localhost:8080/"
        },
        "id": "j8C7zfCt3OTj",
        "outputId": "c151b5f5-3b3c-489c-a761-7e7beecd7409"
      },
      "outputs": [
        {
          "name": "stdout",
          "output_type": "stream",
          "text": [
            "10.173033 sec\n",
            "103 69 139 107 0 \n",
            "44595596\n",
            "\u001b[01m\u001b[Kmain.c:\u001b[m\u001b[K In function ‘\u001b[01m\u001b[Kmain\u001b[m\u001b[K’:\n",
            "\u001b[01m\u001b[Kmain.c:25:13:\u001b[m\u001b[K \u001b[01;35m\u001b[Kwarning: \u001b[m\u001b[Kdereferencing type-punned pointer will break strict-aliasing rules [\u001b[01;35m\u001b[K-Wstrict-aliasing\u001b[m\u001b[K]\n",
            "             \u001b[01;35m\u001b[K*\u001b[m\u001b[K(uint32_t*)b = *(uint32_t*)&v;\n",
            "             \u001b[01;35m\u001b[K^\u001b[m\u001b[K\n",
            "10.200591 sec\n",
            "103 69 139 107 0 \n",
            "44595596\n"
          ]
        }
      ],
      "source": [
        "!clang -Wall -Ofast main.c\n",
        "!./a.out\n",
        "!gcc -Wall -Ofast main.c\n",
        "!./a.out"
      ]
    },
    {
      "cell_type": "markdown",
      "metadata": {
        "id": "KfE9WdJbU3DB"
      },
      "source": [
        "for文の展開や同様の処理をRustで実装した場合と同程度です。ただ、64bit整数の8バイト配列化が4秒程度ですから、cpuネイティブのビット幅と異なる整数の取り扱いにはそれなりのコストがかかることが分かります。それについにgccに警告を出されてしまいました。意図的にポイント先の整数をバラしているのですから、当然ですね。この辺りがリトルエンディアン限定である所以でもあります。処理速度的にもこれを採用する意味はないです。"
      ]
    },
    {
      "cell_type": "markdown",
      "metadata": {
        "id": "FXMv_7J4yPoh"
      },
      "source": [
        "## 5バイト配列から40bit整数への変換"
      ]
    },
    {
      "cell_type": "markdown",
      "metadata": {
        "id": "tQxI4NvdYMsH"
      },
      "source": [
        "素朴な方法"
      ]
    },
    {
      "cell_type": "code",
      "execution_count": null,
      "metadata": {
        "colab": {
          "base_uri": "https://localhost:8080/"
        },
        "id": "_yR6If2vOCc-",
        "outputId": "7b8d1e71-bb35-43ca-aabf-ee57c6ed62e3"
      },
      "outputs": [
        {
          "name": "stdout",
          "output_type": "stream",
          "text": [
            "Overwriting main.c\n"
          ]
        }
      ],
      "source": [
        "%%writefile main.c\n",
        "#include <stdio.h>\n",
        "#include <stdlib.h>\n",
        "#include <stdint.h>\n",
        "#include <time.h>\n",
        "\n",
        "#define COUNT 10000000000\n",
        "#define SIZE 100000\n",
        "\n",
        "int main(int argc, char **argv)\n",
        "{\n",
        "    uint64_t vs[SIZE];\n",
        "    uint8_t buf[SIZE][5];\n",
        "    srand(0);\n",
        "    for (int i = 0; i < SIZE; i += 1) {\n",
        "        for (int j = 0; j < 5; j += 1) {\n",
        "            buf[i][j] = (uint8_t)rand();\n",
        "        }\n",
        "    }\n",
        "\n",
        "    // 計測開始\n",
        "    clock_t start_clock, end_clock;\n",
        "    start_clock = clock();\n",
        "    for (size_t i = 0; i < COUNT/SIZE; i++) {\n",
        "        for (size_t idx = 0; idx < SIZE; idx++) {\n",
        "            uint8_t *b = (uint8_t*)&buf[idx];\n",
        "            uint64_t v = b[0];\n",
        "            for (size_t j = 1; j < 5; j++) {\n",
        "                v += (uint64_t)(b[j]) << (8 * j);\n",
        "            }\n",
        "            vs[idx] = v;\n",
        "        }\n",
        "    }\n",
        "    end_clock = clock();\n",
        "    // 計測終了\n",
        " \n",
        "    printf(\"%f sec\\n\", (double)(end_clock - start_clock) / CLOCKS_PER_SEC);\n",
        "    printf(\"%lu\\n\", vs[0]);\n",
        "    uint64_t total = 0;\n",
        "    for (size_t i = 0; i < SIZE; i += 1) {\n",
        "        total += vs[i];\n",
        "    }\n",
        "    printf(\"%lu\\n\", total);\n",
        "    return 0;\n",
        "}"
      ]
    },
    {
      "cell_type": "code",
      "execution_count": null,
      "metadata": {
        "colab": {
          "base_uri": "https://localhost:8080/"
        },
        "id": "fZWasSRQOCQ_",
        "outputId": "e983fc15-7e07-4666-cfb8-429258f1a80b"
      },
      "outputs": [
        {
          "name": "stdout",
          "output_type": "stream",
          "text": [
            "19.252601 sec\n",
            "349828662887\n",
            "54993386919705396\n",
            "17.163747 sec\n",
            "349828662887\n",
            "54993386919705396\n"
          ]
        }
      ],
      "source": [
        "!clang -Wall -Ofast main.c\n",
        "!./a.out\n",
        "!gcc -Wall -Ofast main.c\n",
        "!./a.out"
      ]
    },
    {
      "cell_type": "markdown",
      "metadata": {
        "id": "1dG53yy1Ovcy"
      },
      "source": [
        "内側のfor文の展開"
      ]
    },
    {
      "cell_type": "code",
      "execution_count": null,
      "metadata": {
        "colab": {
          "base_uri": "https://localhost:8080/"
        },
        "id": "Rcog0MlR5gQI",
        "outputId": "d895b1bf-2c74-46c7-ce39-23b39a1752e6"
      },
      "outputs": [
        {
          "name": "stdout",
          "output_type": "stream",
          "text": [
            "Overwriting main.c\n"
          ]
        }
      ],
      "source": [
        "%%writefile main.c\n",
        "#include <stdio.h>\n",
        "#include <stdlib.h>\n",
        "#include <stdint.h>\n",
        "#include <time.h>\n",
        "\n",
        "#define COUNT 10000000000\n",
        "#define SIZE 100000\n",
        "\n",
        "int main(int argc, char **argv)\n",
        "{\n",
        "    uint64_t vs[SIZE];\n",
        "    uint8_t buf[SIZE][5];\n",
        "    srand(0);\n",
        "    for (int i = 0; i < SIZE; i += 1) {\n",
        "        for (int j = 0; j < 5; j += 1) {\n",
        "            buf[i][j] = (uint8_t)rand();\n",
        "        }\n",
        "    }\n",
        "\n",
        "    // 計測開始\n",
        "    clock_t start_clock, end_clock;\n",
        "    start_clock = clock();\n",
        "    for (size_t i = 0; i < COUNT/SIZE; i++) {\n",
        "        for (size_t idx = 0; idx < SIZE; idx++) {\n",
        "            uint8_t *b = (uint8_t*)&buf[idx];\n",
        "            uint64_t v = b[0];\n",
        "            v += (uint64_t)(b[1]) << 8;\n",
        "            v += (uint64_t)(b[2]) << 16;\n",
        "            v += (uint64_t)(b[3]) << 24;\n",
        "            v += (uint64_t)(b[4]) << 32;\n",
        "            vs[idx] = v;\n",
        "        }\n",
        "    }\n",
        "    end_clock = clock();\n",
        "    // 計測終了\n",
        " \n",
        "    printf(\"%f sec\\n\", (double)(end_clock - start_clock) / CLOCKS_PER_SEC);\n",
        "    printf(\"%lu\\n\", vs[0]);\n",
        "    uint64_t total = 0;\n",
        "    for (size_t i = 0; i < SIZE; i += 1) {\n",
        "        total += vs[i];\n",
        "    }\n",
        "    printf(\"%lu\\n\", total);\n",
        "    return 0;\n",
        "}"
      ]
    },
    {
      "cell_type": "code",
      "execution_count": null,
      "metadata": {
        "colab": {
          "base_uri": "https://localhost:8080/"
        },
        "id": "dsKtyLcJ5h87",
        "outputId": "09f67699-14de-40ac-deab-2f78e8a276fd"
      },
      "outputs": [
        {
          "name": "stdout",
          "output_type": "stream",
          "text": [
            "19.257227 sec\n",
            "349828662887\n",
            "54993386919705396\n",
            "17.248058 sec\n",
            "349828662887\n",
            "54993386919705396\n"
          ]
        }
      ],
      "source": [
        "!clang -Wall -Ofast main.c\n",
        "!./a.out\n",
        "!gcc -Wall -Ofast main.c\n",
        "!./a.out"
      ]
    },
    {
      "cell_type": "markdown",
      "metadata": {
        "id": "LkXLiQA8WpAy"
      },
      "source": [
        "for文展開しても同じでした。8バイトの時が23秒でしたから、それなりに短縮されています。Goでは24秒、Rustでは10秒でした。"
      ]
    },
    {
      "cell_type": "markdown",
      "metadata": {
        "id": "hCKOMJ0bYY2G"
      },
      "source": [
        "次に、uint64_tで取得してから0xFFFFFFFFFFでマスクすることで5バイト化する方法です。"
      ]
    },
    {
      "cell_type": "code",
      "execution_count": null,
      "metadata": {
        "colab": {
          "base_uri": "https://localhost:8080/"
        },
        "id": "OgXLDPCp65Yb",
        "outputId": "8a9105c8-d2f5-46de-ac8e-54c7ebd5d7fe"
      },
      "outputs": [
        {
          "name": "stdout",
          "output_type": "stream",
          "text": [
            "Overwriting main.c\n"
          ]
        }
      ],
      "source": [
        "%%writefile main.c\n",
        "#include <stdio.h>\n",
        "#include <stdlib.h>\n",
        "#include <stdint.h>\n",
        "#include <time.h>\n",
        "\n",
        "#define COUNT 10000000000\n",
        "#define SIZE 100000\n",
        "\n",
        "int main(int argc, char **argv)\n",
        "{\n",
        "    uint64_t vs[SIZE];\n",
        "    uint8_t buf[SIZE][5];\n",
        "    srand(0);\n",
        "    for (int i = 0; i < SIZE; i += 1) {\n",
        "        for (int j = 0; j < 5; j += 1) {\n",
        "            buf[i][j] = (uint8_t)rand();\n",
        "        }\n",
        "    }\n",
        "\n",
        "    // 計測開始\n",
        "    clock_t start_clock, end_clock;\n",
        "    start_clock = clock();\n",
        "    for (size_t i = 0; i < COUNT/SIZE; i++) {\n",
        "        for (size_t idx = 0; idx < SIZE; idx++) {\n",
        "            vs[idx] = ((*(uint64_t*)&buf[idx]) & 0xFFFFFFFFFF);\n",
        "        }\n",
        "    }\n",
        "    end_clock = clock();\n",
        "    // 計測終了\n",
        " \n",
        "    printf(\"%f sec\\n\", (double)(end_clock - start_clock) / CLOCKS_PER_SEC);\n",
        "    printf(\"%lu\\n\", vs[0]);\n",
        "    uint64_t total = 0;\n",
        "    for (size_t i = 0; i < SIZE; i += 1) {\n",
        "        total += vs[i];\n",
        "    }\n",
        "    printf(\"%lu\\n\", total);\n",
        "    return 0;\n",
        "}"
      ]
    },
    {
      "cell_type": "code",
      "execution_count": null,
      "metadata": {
        "colab": {
          "base_uri": "https://localhost:8080/"
        },
        "id": "jmUM02A765Uy",
        "outputId": "ce4fd19e-d493-4022-94a4-3c1a7b674da5"
      },
      "outputs": [
        {
          "name": "stdout",
          "output_type": "stream",
          "text": [
            "5.478499 sec\n",
            "349828662887\n",
            "54993386919705396\n",
            "6.208831 sec\n",
            "349828662887\n",
            "54993386919705396\n"
          ]
        }
      ],
      "source": [
        "!clang -Wall -Ofast main.c\n",
        "!./a.out\n",
        "!gcc -Wall -Ofast main.c\n",
        "!./a.out"
      ]
    },
    {
      "cell_type": "markdown",
      "metadata": {
        "id": "GjUGJJXAY1m_"
      },
      "source": [
        "相当速い。ただ、64bitでは4秒でしたので、マスク処理にそれなりのコストがかかっています。ちなみに、Goの最速が14秒、Rustが7秒です。"
      ]
    },
    {
      "cell_type": "markdown",
      "metadata": {
        "id": "42SiOnqDZs5j"
      },
      "source": [
        "マスクではなく、4バイトと1バイトに分ける方法を試してみます。"
      ]
    },
    {
      "cell_type": "code",
      "execution_count": null,
      "metadata": {
        "colab": {
          "base_uri": "https://localhost:8080/"
        },
        "id": "iBr2fZKG7n6p",
        "outputId": "f1b8729f-f5d6-4193-8b9c-38a1eef97c72"
      },
      "outputs": [
        {
          "name": "stdout",
          "output_type": "stream",
          "text": [
            "Overwriting main.c\n"
          ]
        }
      ],
      "source": [
        "%%writefile main.c\n",
        "#include <stdio.h>\n",
        "#include <stdlib.h>\n",
        "#include <stdint.h>\n",
        "#include <time.h>\n",
        "\n",
        "#define COUNT 10000000000\n",
        "#define SIZE 100000\n",
        "\n",
        "int main(int argc, char **argv)\n",
        "{\n",
        "    uint64_t vs[SIZE];\n",
        "    uint8_t buf[SIZE][5];\n",
        "    srand(0);\n",
        "    for (int i = 0; i < SIZE; i += 1) {\n",
        "        for (int j = 0; j < 5; j += 1) {\n",
        "            buf[i][j] = (uint8_t)rand();\n",
        "        }\n",
        "    }\n",
        "\n",
        "    clock_t start_clock, end_clock;\n",
        "    start_clock = clock();\n",
        "    for (size_t i = 0; i < COUNT/SIZE; i++) {\n",
        "        for (size_t idx = 0; idx < SIZE; idx++) {\n",
        "            uint8_t *b = buf[idx];\n",
        "            vs[idx] = (*(uint32_t*)b) + (((uint64_t)b[4]) << 32);\n",
        "        }\n",
        "    }\n",
        "    end_clock = clock();\n",
        " \n",
        "    printf(\"%f sec\\n\", (double)(end_clock - start_clock) / CLOCKS_PER_SEC);\n",
        "    printf(\"%lu\\n\", vs[0]);\n",
        "    uint64_t total = 0;\n",
        "    for (size_t i = 0; i < SIZE; i += 1) {\n",
        "        total += vs[i];\n",
        "    }\n",
        "    printf(\"%lu\\n\", total);\n",
        "    return 0;\n",
        "}"
      ]
    },
    {
      "cell_type": "code",
      "execution_count": null,
      "metadata": {
        "colab": {
          "base_uri": "https://localhost:8080/"
        },
        "id": "n39uWojC7n17",
        "outputId": "4f081743-920c-46c7-bfb9-b6524cc76275"
      },
      "outputs": [
        {
          "name": "stdout",
          "output_type": "stream",
          "text": [
            "6.204805 sec\n",
            "349828662887\n",
            "54993386919705396\n",
            "7.772412 sec\n",
            "349828662887\n",
            "54993386919705396\n"
          ]
        }
      ],
      "source": [
        "!clang -Wall -Ofast main.c\n",
        "!./a.out\n",
        "!gcc -Wall -Ofast main.c\n",
        "!./a.out"
      ]
    },
    {
      "cell_type": "markdown",
      "metadata": {
        "id": "wFB5TMVbZ7CH"
      },
      "source": [
        "遅くなりました。この処理ではマスクの方が有効です。\n",
        "\n",
        "それとこのコードではgccが警告を出していません。uint8_tへのポインターをuint32_tのポインターに差し替えているので、当然警告が出ると思ったのですが、コンパイラーが検出できる限界を超えたようです。"
      ]
    },
    {
      "cell_type": "markdown",
      "metadata": {
        "id": "BloLkQIYyVhG"
      },
      "source": [
        "## 40bit整数の配列の5Nバイト配列化"
      ]
    },
    {
      "cell_type": "markdown",
      "metadata": {
        "id": "dpa9W3gebEHD"
      },
      "source": [
        "10万個の整数を5バイトずつのバイト配列にします。まずは素朴な実装。"
      ]
    },
    {
      "cell_type": "code",
      "execution_count": null,
      "metadata": {
        "colab": {
          "base_uri": "https://localhost:8080/"
        },
        "id": "oN0rwxX_ctt5",
        "outputId": "bce6fbd3-6e4a-4e3d-b857-f1dd487600ca"
      },
      "outputs": [
        {
          "name": "stdout",
          "output_type": "stream",
          "text": [
            "Overwriting main.c\n"
          ]
        }
      ],
      "source": [
        "%%writefile main.c\n",
        "#include <stdio.h>\n",
        "#include <stdlib.h>\n",
        "#include <stdint.h>\n",
        "#include <time.h>\n",
        "\n",
        "#define COUNT 10000000000\n",
        "#define SIZE 100000\n",
        "\n",
        "int main(int argc, char **argv)\n",
        "{\n",
        "    uint64_t vs[SIZE];\n",
        "    for (int i = 0; i < SIZE; i += 1) {\n",
        "        vs[i] = rand() & 0xFFFFFFFFFF;\n",
        "    }\n",
        "    uint8_t buf[SIZE * 5];\n",
        "\n",
        "    // 測定開始\n",
        "    clock_t start_clock, end_clock;\n",
        "    start_clock = clock();\n",
        "    for (size_t i = 0; i < COUNT/SIZE; i++) {\n",
        "        for (size_t idx = 0; idx< SIZE; idx++) {\n",
        "            uint64_t v = vs[idx];\n",
        "            size_t idx5 = idx * 5;\n",
        "            uint8_t *b = (uint8_t*)(buf + idx5);\n",
        "            for (uint8_t j = 0; j < 5; j++) {\n",
        "                b[j] = v >> (8 * j);\n",
        "            }\n",
        "        }\n",
        "    }\n",
        "    end_clock = clock();\n",
        "    // 測定終了\n",
        " \n",
        "    printf(\"%f sec\\n\", (double)(end_clock - start_clock) / CLOCKS_PER_SEC);\n",
        "    for (int i = 0; i < 5; i++) printf(\"%d \", buf[i]);\n",
        "    printf(\"\\n\");\n",
        "    uint64_t total = 0;\n",
        "    for (size_t i = 0; i < SIZE * 5; i += 1) {\n",
        "        total += buf[i];\n",
        "    }\n",
        "    printf(\"%lu\\n\", total); \n",
        "    return 0;\n",
        "}"
      ]
    },
    {
      "cell_type": "code",
      "execution_count": null,
      "metadata": {
        "colab": {
          "base_uri": "https://localhost:8080/"
        },
        "id": "JNbb-0DCc56g",
        "outputId": "bbf4f8de-9fb2-43bf-8bbd-2d822f0db276"
      },
      "outputs": [
        {
          "name": "stdout",
          "output_type": "stream",
          "text": [
            "21.504752 sec\n",
            "103 69 139 107 0 \n",
            "44595596\n",
            "22.461016 sec\n",
            "103 69 139 107 0 \n",
            "44595596\n"
          ]
        }
      ],
      "source": [
        "!clang -Wall -Ofast main.c\n",
        "!./a.out\n",
        "!gcc -Wall -Ofast main.c\n",
        "!./a.out"
      ]
    },
    {
      "cell_type": "markdown",
      "metadata": {
        "id": "FPQst9zjbN_w"
      },
      "source": [
        "Goが104秒、Rustが21秒ですから、Rustと同等程度です。"
      ]
    },
    {
      "cell_type": "markdown",
      "metadata": {
        "id": "TQDMoBrFSkHG"
      },
      "source": [
        "次にfor文の展開"
      ]
    },
    {
      "cell_type": "code",
      "execution_count": null,
      "metadata": {
        "colab": {
          "base_uri": "https://localhost:8080/"
        },
        "id": "G9Ecuc9dysqd",
        "outputId": "b2418530-833d-4126-bc73-f97057062e38"
      },
      "outputs": [
        {
          "name": "stdout",
          "output_type": "stream",
          "text": [
            "Overwriting main.c\n"
          ]
        }
      ],
      "source": [
        "%%writefile main.c\n",
        "#include <stdio.h>\n",
        "#include <stdlib.h>\n",
        "#include <stdint.h>\n",
        "#include <time.h>\n",
        "\n",
        "#define COUNT 10000000000\n",
        "#define SIZE 100000\n",
        "\n",
        "int main(int argc, char **argv)\n",
        "{\n",
        "    uint64_t vs[SIZE];\n",
        "    for (int i = 0; i < SIZE; i += 1) {\n",
        "        vs[i] = rand() & 0xFFFFFFFFFF;\n",
        "    }\n",
        "    uint8_t buf[SIZE * 5];\n",
        "\n",
        "    // 測定開始\n",
        "    clock_t start_clock, end_clock;\n",
        "    start_clock = clock();\n",
        "    for (size_t i = 0; i < COUNT/SIZE; i++) {\n",
        "        for (size_t idx = 0; idx< SIZE; idx++) {\n",
        "            uint64_t v = vs[idx];\n",
        "            size_t idx5 = idx * 5;\n",
        "            uint8_t *b = (uint8_t*)(buf + idx5);\n",
        "            b[0] = v;\n",
        "            b[1] = v >> 8;\n",
        "            b[2] = v >> 16;\n",
        "            b[3] = v >> 24;\n",
        "            b[4] = v >> 32;\n",
        "        }\n",
        "    }\n",
        "    end_clock = clock();\n",
        "    // 測定終了\n",
        " \n",
        "    printf(\"%f sec\\n\", (double)(end_clock - start_clock) / CLOCKS_PER_SEC);\n",
        "    for (int i = 0; i < 5; i++) printf(\"%d \", buf[i]);\n",
        "    printf(\"\\n\");\n",
        "    uint64_t total = 0;\n",
        "    for (size_t i = 0; i < SIZE * 5; i += 1) {\n",
        "        total += buf[i];\n",
        "    }\n",
        "    printf(\"%lu\\n\", total); \n",
        "    return 0;\n",
        "}"
      ]
    },
    {
      "cell_type": "code",
      "execution_count": null,
      "metadata": {
        "colab": {
          "base_uri": "https://localhost:8080/"
        },
        "id": "jHAzeC7yysZL",
        "outputId": "a8cdb1ca-4e0f-471f-dff6-16ba5ce9629a"
      },
      "outputs": [
        {
          "name": "stdout",
          "output_type": "stream",
          "text": [
            "21.461715 sec\n",
            "103 69 139 107 0 \n",
            "44595596\n",
            "22.414635 sec\n",
            "103 69 139 107 0 \n",
            "44595596\n"
          ]
        }
      ],
      "source": [
        "!clang -Wall -Ofast main.c\n",
        "!./a.out\n",
        "!gcc -Wall -Ofast main.c\n",
        "!./a.out"
      ]
    },
    {
      "cell_type": "markdown",
      "metadata": {
        "id": "FBwDoHm0yz5h"
      },
      "source": [
        "Goが16秒、Rustが21秒ですから、Rustと同程度ですが、Goより遅い。CやRustといえど工夫無くしてはGoに負けることがあるようです。"
      ]
    },
    {
      "cell_type": "markdown",
      "metadata": {
        "id": "c5rfhgbqcuji"
      },
      "source": [
        "次に下図の戦略での実装。"
      ]
    },
    {
      "cell_type": "markdown",
      "metadata": {
        "id": "KpD5B_0cb7hR"
      },
      "source": [
        "<image width=500 src=\"data:image/png;base64,iVBORw0KGgoAAAANSUhEUgAABAYAAAFeCAYAAAAWvx3kAAAgAElEQVR4Ae29ifMdw/7/HwqpiOJSIglCSGKXUASxE4klsS8XcXEjqyx2EbF85HJFItZCIgjha7nXmpKIoCIEJYK/6Ffzq+e51dGnp2dOn3PendPvmce76l2z9fT069Gv6fPq13S/esAA/iAAAQhAAAIQgAAEIAABCEAAAhCAAAQgAAEIQAACEIAABCAAAQhAAAIQgAAEIAABCEAAAhCAAAQgAAEIQAACEIAABCAAAQhAAAIQgAAEIAABCEAAAhCoFYE///wz4x8G6AA6gA6gA+hAezpQK2MBYSEAAQhAAAIQqDYBDMH2DEF4wQsdQAfQAXRAOlBt6wDpIAABCEAAAhCoFQEMXAxcdAAdQAfQAXSgfR2olbGAsBCAAAQgAAEIVJsAxmD7xiDMYIYOoAPoADpQbesA6SAAAQhAAAIQqBUBjFuMW3QAHUAH0AF0oH0dqJWxgLAQgAAEIAABCFSbAMZg+8YgzGCGDqAD6AA6UG3rAOkgAAEIQAACEKgVAYxbjFt0AB1AB9ABdKB9HaiVsYCwEIAABCAAAQhUmwDGYPvGIMxghg6gA+gAOlBt6wDpIAABCEAAAhCoFQGMW4xbdAAdQAfQAXSgfR2olbGAsBCAAAQgAAEIVJsAxmD7xmCdmP36669ZneRFVt4HdAAdCNWBalsHSAcBCEAAAhCAQK0IhBpAZenuueee7LrrrsumT5+ezZo1K5szZ87O/5kzZ2bTpk3Lbrjhhq46mN9991121113ZePHj89GjhyZ7bvvvtmQIUOyU089Nbv++uuzRx55JPvll1+6ekaZjLq2ffv2bNmyZdkdd9yRnX/++dkRRxyRDR48ODvwwAOz0aNHZ2eccUZ27733Zps2bWq7HCnIt3Xr1kb9TZgwITvyyCMbjAcMGNDYHn744Q32Dz30UPbjjz+2LZ/4rV69OpsyZUp27LHHZgcddFCDnbhddNFFDX1Zt25dR/m2qreQ61988cVOnTX6+9JLL7VVnl7Jd9ttt2X6nzFjRjZ79uycHEYes9U7evvtt2dXX311dtZZZ2Xr168PkjMFHY1Zhph5h+igSRNLj6oun/jFYmfqxt3WylhAWAhAAAIQgAAEqk3ANXQ6OT7xxBMzdSDL/gcNGhTU+XCfv2PHjkanZ6+99irNX88eMWJE9tprr3X0HPe57vGHH37Y6PyXyWiu7bbbbtnUqVMzdbTdfNzjFORTR/+mm27a6QgwchRtVZfqhP7+++8t5ZO8oezE7Zprrsm2bdsWlK/LstNj1cHxxx+f0y8xCcmz1/LJSVZUVyHnP/jgg1I5U9DRmGWImXeI/pg0sfSo6vKJXyx2pm6KttW2DpAOAhCAAAQgAIFaESgyeNo5H+IY0BfidvJUWnVYx44d23an54orrshkDLf7vKL08+bNywYOHNh2OQ499NDs22+/LSxHCvKpEx5Sf74O5tlnn5398ccfhfKJ5xNPPJHJkeC7v+jc8OHDszfeeKM036K66uS8RrT4yjJ37tyWZUhBvj333NNbfp9MvnNljoEUdDRmGWLm3Y4uxtKjqsvX6zamVsYCwkIAAhCAAAQgUG0C7RivRWlDOpYadl90v++8Opwa5uzryISc0/QCX77tnnv00Uc7LoPKKTa+Z6Ygn8pw8skndyWfpor45NO5N998MwsZ6eGrz/333z/T8P6ivPvq/JNPPlko/4MPPlj6/BTkUwwIH792zhU5BlLR0VjtQAryxXxPqi5fTHah7Uu1rQOkgwAEIAABCECgVgRCDaCydJdffnmjg3nOOedkF198cWMYvdshHDNmTGkny81/4cKF3g6P5rprnvs777yTrVmzphF3QHP8fR2hl19+ua1numXQ1351UH15a6qAvvJpCKs6iPPnz2/EPPClffXVV3PlSEG+pUuXemVTDIf/+7//yz777LPsp59+yj7//PPs/vvvz4YOHZpLf8ABB2S+AIW6z5defDRdYOXKlQ12itmgeA0+bkVOFbeeOj1+7733GnEOfM/WOcWtKMo7Ffk2bNiQY6d4H9Iv3/+CBQsaMQgUD0T1MHHixExzz31ypqCjMcsQM28fT9+5mHpUdflisvPVle9crYwFhIUABCAAAQhAoNoEfMZOX5xzO9QKOBearzqavs6+Ag9qaKybjzo2xxxzTK6DdMIJJ+TSuveWHSugm9tplMNDDgHffVu2bMkOPvjg3D1XXnllU/pU5BMfVz7Vk6+jL3nlKNhvv/1y96xatapJPqX1dUo0HWPFihW5tEpfNDKj3QCAvnrxnZPTR1MWXPnt48cee8xb1pTkW7t2bU6GTz/9tLDcPha+cynoaMwyxMzbx7PoXKz3pOryiWcsdkV15TtfbesA6SAAAQhAAAIQqBUBn7HTF+dcx4CCu4Xm6/uSrQ75V199VZjHxx9/7I0DoC+qoc910+nLud1R1L6cBW46+9jXwZVDw06TgnxawUF14nb0fZ18u+waEeIyWbJkSZN8Sq+RHW46RcG383L3fXlfcsklpfe4eYQc//bbb9m4ceNy5XPL+/jjjxc+OxX5li9fnpPD5zwL4WKnSUFHY5YhZt42x1b7sfSo6vKJayx2rerMvl4rYwFhIQABCEAAAhCoNgHbyOnL/W4cA5MmTcp1dq666qrCTpopt5a9czt3Dz/8cMv7zP329vvvv8/lpbw3b95cmt9bb72Vu0+jGey8U5DPLo8cLi+88EL2wAMPNJXTTmP2NUy9FWPFBnDTyLGzcePG0vz1pdu9T1/1zbP7aqvglO5ztNSkG2CyyDGQknyLFi1qkkXLZ/YFpxR0NGYZYuYdyj+mHlVdvpjsQutP6aptHSAdBCAAAQhAAAK1ItCOEdRO2m4cA8OGDWvq7KhTGfLl/8UXX2y6T50/OQvaKbdJK8fAnXfe2Vjr/cwzz8wUI+Hoo49umdc999yTK4OMdJOvtinIZ5ennX3f9AN3icjFixfnGKgzHvIc37KBmsIQcm9Imvvuuy9XNq0e4XMEFTkGUpLvjjvuaJJHU1lCOLRKk4KOxixDzLxbsTXXY+pR1eWLyc7UT8i2VsYCwkIAAhCAAAQgUG0CIcZPJ2k6dQz8/vvv2R577NHU2Rk9enRQZ0fBqHbbbbeme/uqoxTCQEH6FIzP/Rptf4nvz/L5nB7qgEgmm8/tt9+eY6Agg3aaov2bbropd69vqkLR/WXnNU3CXdpvn332aQRB1PQCt96KHAMpyaeRNHa5FSNC0eg1peXSSy9tTBeRTuo90KgI8X3mmWdK6yIFHY1Zhph5l+mfey2WHlVdPnGMxc6to1bH1bYOkA4CEIAABCAAgVoRaGX4dHq9U8eAhrXbHR3tT5gwobQjY5fRnXeq4eH29Vj777//fnbQQQflyq6h3V9++eXOMqQu36ZNmxrTJbZv356ps7x+/frs+eefb9SBWy86vvfee3fKZthedtllOQ7r1q3LpTPp7a1vbvSsWbOC7rXzcfclh89p8/TTTzfylryufEWOgZTkO/fcc5vKfcghh3gDcbqynX766YUxO1LQ0ZhliJm3q3dlx7H0qOryiWksdmX15btWK2MBYSEAAQhAAAIQqDYBn7HTF+c6dQz45ui7Uf3LyqdAf24naNu2bV13LMueqeHp7vx0UwY3sn3q8vniNBhZ3O3111/v5eqrA60CUMbQXNPSj6HPMfe02mokiUaduPnagSTbcQykJJ9vaocrZ9GxAk++8soruXpJQUdjliFm3q100b4eS4+qLp8YxmJn10/IfrWtA6SDAAQgAAEIQKBWBEKMn07SdOoY0BdctyMze/bsXOelqEzuF1TlpUBVRem7Oa+v6/ry6pbXHGudeDf/1OULcQzIKH/uuedyshlZR40a1cRk0KBBhWnNPWb70UcfNd0rlm6MBpM2ZKth9T6d0CgUXTN5tOMYSEk+xUcw+ubb6j3UdAnfNZ3TVBB3FYMUdDRmGWLmbfQpZBtLj6oun9jGYhdSb3aaWhkLCAsBCEAAAhCAQLUJ2EZOX+536hjQfHy3E3P//ffv7MC1KuPkyZNz97/33nvB97fK31x/8sknM1dGU27FSJgzZ473manLF+IY+Nvf/tYYyvvNN994ZRwyZEhTHRx44IHedIalvdWQf8PRbM8666zg++28tO+bi6zpJm5nuB3HQCryaS65AnMaTmYrR4ACZ3799dcNbnKAKIBjUd1OnTq1iW8KOhqzDDHzdvWv7DiWHlVdPjGNxa6svnzXqm0dIB0EIAABCEAAArUi4DN2+uKc22lWtPmQfJ944olcR0eR10PuVRrf12HTQQrNoyzdr7/+mqkjZTph7lZzvDUcviiP1OW7+OKLC2VzZZVxroB+rqyHHXZYUx4K+Gd/nXfT28cffvhh0716pttxtdOX7ftYa/j8J598kitzO46BVOTzOVG0vKPOF3GZO3dujq8Y29NtfNx29TsYswwx8y7i7jsfS4+qLp9YxmLnq6eyc7UyFhAWAhCAAAQgAIFqEygzerq51qlj4KWXXsp1XBR5PbQsp5xyStP9+qIa2ilt9YzNmzdnxx13XFP+dmdZHVi7g+XLL2X5VF4t26eO5Q8//JD9/PPPmaZLrF27tjECwjXGJbs62uJiy+qb9/7dd981pbHT2/tr1qzJ8Z0xY0bQvXY+WkLR/ZquFStWrlzpzasdx0AK8knWLVu2NII/3nrrrY0RHFp1QEt22hzcfY0y0NKbtt5q/+233955Xwo6GrMMMfN2eZcdx9KjqssnprHYldWX71q1rQOkgwAEIAABCECgVgR8xk5fnOvUMaDo/m6n5ZxzztnZaWlVNnfOdV8tV6ih574Adiqrot0XdTjd8qYqn1tO37GcBUcffXSufjR9w05/9tln59J88MEHTWns9Pa+ltlz6/+RRx4JutfOx13HXXlqhYibb77Z+3/jjTfmnqul/66++upGp1sxCdQB1zNSkM+Wtd396dOn52QVd5NPCjoaswwx8zYMQ7ax9Kjq8oltLHYh9WanqZWxgLAQgAAEIAABCFSbgG3k9OV+p44BfVl2O4bHHHPMzk5LWRnVeXfvHTt2bNC9Zfnqa/LJJ5+cy1vPUudxw4YNwc9IUb4y2d1rmqvuMtaoATudOtNumlDHiVY6cO/1Rc63n+fb9y1N6Obb7rECTepZKcjnkzn03L/+9a8cY3uFhhR0NGYZYuYdWgcx9ajq8sVk1079KW21rQOkgwAEIAABCECgVgTaNYRC03fqGFD+I0eObOq4aI66vla3evaKFSua7lPHTwHXWt3X6vrEiRNz+SrvCy+8MJPToNX97vXU5HPL1+rYDfwlFnYgQl/HU1/kW+Wr60cddVSOtZwRIffaaWI6BlKQz5a13f0HH3wwx9gN8JmCjsYsQ8y8Q+sjph5VXb6Y7ELrT+lqZSwgLAQgAAEIQAAC1SbQjhHUTtpuHAO+L7Ihw8l9gQcXLlzYdqfSlvOFF17IdaLUEb788ss7jl2QgnwbN27MnnnmmUxfijU3fejQodnq1auDWB100EE5JuvWrdt577fffpu7rikemt9us3X3fYEH1cHfsWNH6X1uPjqO6RhIQT4js5iK2+LFixsjGRQjwlwr2l555ZW5+lFsBzt9Cjoaswwx87Y5lu3H1KOqyxeTXVmdudeqbR0gHQQgAAEIQAACtSLgGjp9ddyNY2DZsmW5jsuIESMawfCKyqeOqUYWqNNu/3/11VdNHZ6i+4vO+75gjx8/vmUntyg/nU9BPl+sgJDRFb75y+LtLv/ni8fw0EMPldaFYknYdaf9TlckmDVrVnbTTTdl//znPzMFL9Tx7NmzC/99yxpecMEFjXunTZvWiDMwb968neXvtXzSIzmntDShzUwyluneF198ke29995N9/jqLwUdjVmGmHmX8XevxdKjqssnjrHYuXVUdlwrYwFhIQABCEAAAhCoNoEyo6eba904BhQN/8ADD8x1XrQigObPuuXSUHOtTW93kLSvDrybtp3jp556KpfnoEGDclH428lTaVOQb8GCBTnZxOzOO+8sHAkh9r6VCXTOZTB//vxc/nLc+EZ+aNUIddzd+tNx2dKP7jO7OfbFp3j88cdzcplnpCDfXXfdlWM2cODArKjccpJp2VCXs6/+UtDRmGWImbfRkZBtLD2qunxiG4tdSL2ZNNW2DpAOAhCAAAQgAIFaETAGTl9v991336YOSGgAQVMOTQFwOzA61ioDmq/+2GOPZZpnqn1Fm3fTamk6fd02+XWyHTduXC5fLYGnpbLK/hWQUEvCaZ6v5uPLmeCOXOi1fBqKq6CBLjcd60vckiVLGkvYyeny8ssvNyLyF6U30fptxuqY+KYcKH9N+VCn9umnn87uuece79JjJp2dZ8z9rVu35ljYkfrdZ6cg308//VQ4ZeK8887LHn744YZjRbE3NGWkqP6ee+4573vSax0V85hliJm3qy9FxzH1qOryxWRXVF/u+VoZCwgLAQhAAAIQgEC1CbiGTl8d68ul3elUZ7OdvPUVWUvE2Xm0sz9z5sy2nueWbdu2bZmcAO08syztJ5980lSeXssnedX5LytzyDU5P3799dcm2QzL119/vWOGw4cPzzZt2uTN1+Tfl9vNmzfnWLSa+pCCfL6AmyH1ZtJceumlhYxT0NGYZYiZdzu6GUuPqi6fGMdiF1p/1bYOkA4CEIAABCAAgVoRCDWA2kmnjqLpeJitvvS3k4fSani3vnyaPEK3N9xwQ9vPcsumIeyhzwtJ5zoGei2fkdc3HDdEHqUZNWpUy1EZy5cv904LKXuGRln4eJkyx9j6lmHUF9dWz0pBPo2eKRoNUMZZo15arfbRy3fQsI9Zhph5m/KHbGPpUdXlE9tY7ELqrVbGAsJCAAIQgAAEIFBtAiHGT7tpFODM7ZBoBEG7+Zj0CqTlWyLPfYaGrstINPd1s9Uwcjf/bo7LOrq9kM9mo6HkRx55ZLC8ih9x7733Bq8WoNgEkyZNCsp/8uTJ2ZYtW/qkDm0ZW+2/+uqrufJdf/31QeVIQT5NVVFMjRAdVfwOjRbRF+VWXMz1XuuoyhGzDDHzNgxbbWPqUdXli8murN6qbR0gHQQgAAEIQAACtSJQZvR0ek1zPzUM2/4vm68d8hzNAV+6dGl2yy23NKYYHHHEEZlWKlAcAA2HXrlyZbZ9+/bgjk6rZyo+gSLV33333ZnWfV+0aFGTPLZs7r7Sq+OsAH/K49prr82++eab0rLtavlc+dVJ1NKMitmgL8liKweAvkQrXoJGboi9OpQywt37Q47Xrl3biC0wZcqUTHEY9AzlreUS58yZk61fv76jfEOe3SqNvqy69Ri6fKPJOwX5VIcK5ChHjFbUUP1ptM5pp52WydEhPZaumTK3s+21jqqsMcsQM+92OMfSo6rLJ8ax2BXVX62MBYSFAAQgAAEIQKDaBIoMHs7/2VHnCW5wQwfQAXSgHjpQbesA6SAAAQhAAAIQqBUBDNh6GLDUM/WMDqAD6EDf6kCtjAWEhQAEIAABCECg2gQwFPvWUIQnPNEBdAAdqIcOVNs6QDoIQAACEIAABGpFAAO2HgYs9Uw9owPoADrQtzpQK2MBYSEAAQhAAAIQqDYBDMW+NRThCU90AB1AB+qhA9W2DpAOAhCAAAQgAIFaEcCArYcBSz1Tz+gAOoAO9K0O1MpYQFgIQAACEIAABKpNAEOxbw1FeMITHUAH0IF66EC1rQOkgwAEIAABCECgVgQwYOthwFLP1DM6gA6gA32rA7UyFhAWAhCAAAQgAIFqE8BQ7FtDEZ7wRAfQAXSgHjpQbesA6SAAAQhAAAIQqBUBDNh6GLDUM/WMDqAD6EDf6kCtjAWEhQAEIAABCECg2gQwFPvWUIQnPNEBdAAdqIcOVNs6QDoIQAACEIAABCAAAQhAAAIQgAAEIAABCEAAAhCAAAQgAAEIQAACEIAABCAAAQhAAAIQgAAEIAABCEAAAhCAAAQgAAEIQAACEIAABCAAAQhAAAIQgAAEIAABCEAAAhCAAAQgAAEIQAACEIAABCAAAQhAAAIQgAAEIAABCEAAAhCAAAQgAAEIQAACEIAABCAAAQhAAAIQgAAEIAABCEAAAhCAAAQgAAEIQAACEIAABCAAAQhAAAIQgAAEIAABCEAAAhCAAAQgAAEIQAACEIAABCAAAQhAAAIQgAAEIAABCEAAAhCAAAQgAAEIQAACEIAABCAAAQhAAAIQgAAEIAABCEAAAhCAAAQgAAEIQAACEIAABCAAAQhAAAIQgAAEIAABCEAAAhCAAAQgAAEIQAACEIAABCAAAQhAAAIQgAAEIAABCEAAAhCAAAQgAAEIQAACEIAABCAAAQhAAAIQgAAEIAABCEAAAhCAAAQgAAEIQKAWBP7888+MfxigA+gAOoAOoANhOlAL4wAhIQABCEAAAhCoFwEMwTBDEE5wQgfQAXQAHZAO1MtKQFoIQAACEIAABGpBAEMXQxcdQAfQAXQAHQjXgVoYBwgJAQhAAAIQgEC9CGAMhhuDsIIVOoAOoAPoQL2sBKSFAAQgAAEIQKAWBDByMXLRAXQAHUAH0IFwHaiFcYCQEIAABCAAAQjUiwDGYLgxCCtYoQPoADqADtTLSkBaCEAAAhCAAARqQQAjFyMXHUAH0AF0AB0I14FaGAcICQEIQAACEIBAvQhgDIYbg7CCFTqADqAD6EC9rASkhQAEIAABCECgFgQwcjFy0QF0AB1AB9CBcB2ohXGAkBCAAAQgAAEI1IsAxmC4MVgnVjt27Mh+//33rE4yIyvvAjqADoToQL2sBKSFAAQgAAEIQKAWBEKMoKI0GzduzKZMmZL94x//yGbMmJHNmTNn5//s2bOz6dOnZ9dcc032yiuvdNXBXL16deM5xx57bHbQQQdlgwcPzkaPHp1ddNFFjeetW7euq/yL5DPnt2/fni1btiy74447svPPPz874ogjGmU48MADG+U444wzsnvvvTfbtGlTR+XotXySc9WqVdnFF1+cnXjiidmwYcOy3XffPdtjjz0avI855phGPb799tv9Vj5Tl+72iy++2KmzRn9feumltuT87rvvsrvuuisbP358NnLkyGzffffNhgwZkp166qnZ9ddfnz3yyCPZL7/80laebjl9x9Kbm266qfGezZw5MyeHkcds9U7qPb355puzSZMmNfZ9+brneiWfW46Y70nMvF05io5jcq66fDHZ+eqrFsYBQkIAAhCAAAQgUC8CPqMn9NzLL7+cDRgwoOW/OiShedrpPvzww0bHu9Uzdtttt0bHddu2bR09x36mux9aBpVR5Zg6dWq2devWoHKE5h1TPjltjj/++JZ1aOpAToL//Oc//UY+tz7tY42K8Mmuzradrmhf9992223ZXnvt1ZLfiBEjstdeey0o36LnuefnzZvX8rmm3nzbc845p7Q8vZbPyBvzPYmZtyl/q21MzlWXLya7snqrl5WAtBCAAAQgAAEI1IJAmfHT6lqoY2DRokWlHRDfc5544ols0KBBbXV8hg8fnr3xxhttP8v3fJ1Tx2vgwIFtlUEdsEMPPTT79ttvS8uRgnz//ve/G6MCfJ3GsnOqlzVr1iQvX1G9mvPTpk3z1u3cuXNLZdP9P/74YzZ27Fjv/WXsrrjiikydGVOGbrb6+l/2rFbXyhwDKcgnNjHfk5h5h9ZrTM5Vly8mu1b1VwvjACEhAAEIQAACEKgXgVYGUNn1UMfAU0891VZH6M033wz6Cuvr+Oy///6ZhoeXlTvk2qOPPtpVp0tD8ouek4J8Gi6/5557diyjplF8//33XhlTkK+IvTn/5JNPFsr+4IMPeuUy9/7xxx/ZWWedVXi/Ty/tc5peYPLqZquRDXa+7e4XOQZSkS+mHsXMO7ROY3Kuunwx2YXUX72sBKSFAAQgAAEIQKAWBEKMoKI0mnN+wgknZKeddlp24YUXNobR+4ZmL1++PLgj9NNPP2VDhw71dngUr2DlypWZhsdqzr/m+/s6Q2Wd8iJZ7PP62i8Hgy9vTRXQlziVQcb3/PnzG/PJfWlfffXVnNwpyCejWnPh3TJrSPxVV12VrV27NtOc3S1btjRGYFxwwQW5tLr3zjvvTFI+uy59+++9914jRoQrvzlWTADffebcwoULvTwOP/zw7KGHHsreeeedxogKxR2QA8Xka2/lVDP5dbq95JJLmvLW81W2on/Vl2IRaKSE7i0ayZOCfDHfk5h5t1OXsThXXT4xjsUutP5qYRwgJAQgAAEIQAAC9SIQagiFplNnyO4Aaf/5558P7gT5DD4N51+xYoU3j6Iv++0GkLPl07xxVwZ1muUQsNOZfXWgDz744Nw9V155ZS59CvKJjSufjuVsMTK526uvvjp3z0knnZRLn4J8btntYzl9NOXEJ78599hjj+XkMnn8+uuv3s6+Ag9qaLNJZ7ZysCgug8nbbOVQM2k63cohZ/LTduLEiV3nmYp8MfUoZt6hdRmTc9Xli8kutP7qZSUgLQQgAAEIQAACtSAQagiFpvM5Bl588cXgDou+etqdHe2rU1r2fEXTd+/RF9Gye8qu+b6my1lQdo/PQaHOontPCvI98MADjTgIWnnAcPN18u2yr1+/fmdac4+cIXYa7acgn1smc/zbb79l48aNy8lh5DHbxx9/PCeXyWPp0qW5++U0+uqrrwrv+fjjj72xKjZs2FB4j3le2XbMmDFNZemLKQqpyBdTj2LmXVZf9rWYnKsuX0x2dh2V7dfCOEBICEAAAhCAAATqRaDM+OnkWjeOAcUGMJ0zs1WnS8silpXl008/zd2nr8Jl9xRd07x582x7u3nz5tL83nrrrdx9+lJsPycF+ezyaAk9LfUop0arpQi14oPNQ/su49Tks2XVvgL/uTJoqUk3wGSZY0DL/Ll5aPqF+yz3WEtruvc9/PDDLe9z87GPtXSnnaeWJbSvd7Kfgnwx9Shm3u3wjsW56vKJcSx27dRfvTBfqLgAACAASURBVKwEpIUABCAAAQhAoBYE2jGGQtJ24xhYvHhxU0dHnR515kKe64tt8NlnnwXda+cvx4DmYmuUwplnnpnpq+zRRx/dMp977rknV3YZsHbeKchnl6edfd/0A319t/NIWb777rsvVz9aPcLnCCpzDAwbNqwpHzmuQr78a9SM3YnXvpwFNr929hUnwg0e2So2Qkj+KcgXU49i5h3C16SJxbnq8olfLHambkK2tTAOEBICEIAABCAAgXoRCDGC2knTjWPg9ttvz3Weyua92+XyRWhfsmRJxx0vO+9W+59//nl2wAEH5MquIfv2vf1VPnWeR4wYkZPPjd6fqnyrVq3KdaL32WefRgBJTS9wO+xFjoHff/89t7zj6NGjm+rYrm97XwHhdtttt6Zn+aZi2PeU7St2gVtuxfLQlI+bb745mzBhQqPOFETz2GOPbQQblMOrbMpDKvLF1KOYeZfVl30tJueqyxeTnV1HrfbrZSUgLQQgAAEIQAACtSDQygBq93o3joHLLrss19nRUPeQMvjmnc6aNSvo3pD8i9K8//77mTukWx22wYMHZ19++WXT81OWb/v27ZkcHJoyION769at2bvvvpvNnTvXG2xPnVqltbmkKJ86yj6nzdNPP90ou+R2O9hFjgF1qt206oDbDMr23bnfmsJQlr7smlbFcMui1SMGDRqUO2+n22+//bKiKQypyBdTj2LmXVZf9rWYnKsuX0x2dh212q+FcYCQEIAABCAAAQjUi0ArA6jd6904BhSsz+7EaF9R5EPKoKUD3Xv7Ihhb2bM1PN2dn27K4Itsn7J8mnZhyt5qqyX4Pvnkk1y9pCafvtLri74rjx1Ish3HgC+OhG/liSKd8fFxnStF97rnfVM7XDnLjs8666yGA8jONxX5fJz6qh2ImbfNsmw/JueqyxeTXVmdudfqZSUgLQQgAAEIQAACtSDgGjzdHnfjGBg1alRTJ05fP0PL89FHHzXdq06RO8c/NK9W6TZt2pSdfvrpueeZjtg111zjLXfK8oU4BvTlXcPUtTyjj1FK8mkO/rnnnpurI33h1zVT/nYcAxplYOrYbGfPnr0zL5Nn0dZXHgWLK0pfdt63CoYpk7Z77LGHd6SHnWbBggVNz05Fvph6FDPvsvqyr8XkXHX5YrKz66jVfi2MA4SEAAQgAAEIQKBeBFoZQO1e78YxMGTIkKaOl75Mhz7ft5yevoqG3h+a7sknn8w0b9vuYJl9dcbKIsOnLF+IY0ByaqWFJ554wss1Jfl8c601lP/HH39sKns7jgHFjDB1bbb3339/U35lejR58uTc/e+9917w/Xbed9xxRy4vlWns2LGZRs9orXel14iEf/3rX5lbN0qr6S52gM5U5HPL2pftQMy87fop24/JueryxWRXVmfutXpZCUgLAQhAAAIQgEAtCLgGT7fH3TgGDjvssKbOjqKu2193y8rmm3M9derUjjpdvueoo6X8TIfQ3R5yyCGNDpnvXnMuZfl8jhVXRvtYc5lN5zM1+eS4sMuqfc2t901/aMcx4MtXHXQjf6utb8TA119/HXy/nb/PyTB9+vTCvDTKY+jQoTkuf//733fek4p8Md+TmHnb9VO2H5Nz1eWLya6sztxrtTAOEBICEIAABCAAgXoRcA2ebo+7cQyccMIJuY6Loq+HlGnNmjW5e2fMmBF0b6v8N2/enB133HG5/E3nUw6DkLniqcpn5NfX42+++aYhi76sf/zxx9kzzzzTmJKx++675+TXShDmXm1TkO+1117LtISgqRtttRrAypUrm8pqyt2OY8A3r/+qq67y5mvyt7ennHJKU7lUzlDHl52P9lUWjU657rrrMgUdlKPATeMe+4Zha0qMSZeKfDH1KGbehmOrbUzOVZcvJrtW9WZfr5eVgLQQgAAEIAABCNSCgG3s9MV+N46Bs88+u6njpE7dBx98sLPjUlY+35zrvljXXR1kXwA7lU1z7os6nL6ypiifr5y+c+LrLrenjq39FT4F+dw1zlVPGjKv2Ai+/xtvvDGnc1re7+qrr840KkIxCW699daGDmoFCuVn/59zzjlB+immhx56aNO93SxX6KujVud27NiRc5popIu5LxX5YupRzLwNx1bbmJyrLl9Mdq3qzb5eC+MAISEAAQhAAAIQqBcB29jpi/1uHAPqjNmdLu2Hdry1AoF77yuvvLKz09OJbPqafPLJJ+fy1XPUedywYUNb+acmX7tMLrroohwLO4BdCvL5liZ09aLdY/NVXaNX3HsVcyGEoxxM7r2KBxByb1+mGTlyZFM55OzR8pR6RiryxdSjmHmH1lNMzlWXLya70PpTunpZCUgLAQhAAAIQgEAtCLRjDIWk7cYxoCBpbudJX3RDnnvUUUfl7rUDq4Xk4aaZOHFiLk+V78ILL8zkNHDTtzpOTb5W5XWv+wJ/XXHFFTs5pCBfTMeAeLgda8XB+OGHH3YycJmZ4xUrVuR0SY4Wc31XbQ866KCmcriB/VKQL6Yexcy7nTqMxbnq8olxLHbt1F8tjAOEhAAEIAABCECgXgTaMYZC0nbjGNBa5a5jQMOvzRfNouf7Ag+qg6ih00X3tDr/wgsv5Mqisl1++eUdzwtPQT4FDFy7dm2maPpTpkzJ5FDRcPlWPHT9wQcfzDGx701BvtiOAd8X2ZApK77AgwsXLgziXlQ333//fSY9VQDEJUuWtMxL8SPc90txD+z8U5Avph7FzNvm2Go/Fueqyyeusdi1qjP7er2sBKSFAAQgAAEIQKAWBGxjpy/2u3EM6Pm++fwPPfRQU+fFLafmebsdnm5XJPCNQBg/fnxLJ4VbNve41/I9++yzOVYaTm7HCnDLbI5985c1hcNc17bX8s2aNStTUMR//vOfmYJP6nj27NmF/75lDRXMT/dOmzatEWdg3rx5O2VctmxZjt+IESOyn3/+eWcam4f2161bl2lkgaujX331VeE9bh72sfLTM+389OW/1cgFje6w79G+W38pyCdZY+pRzLzteirbj8m56vLFZFdWZ/a1WhgHCAkBCEAAAhCAQL0I2MZOX+zrK6jb+XjxxReDO0Dz58/P3a9Ole+rrCK6q+PnPk/HWsu9U3meeuqpXJ6DBg3KtDpBp3ma+3otn6ZA+L6qa3jul19+WSjf3XffnWMizlo+zMimba/ls8sSsu+b+//44483yWTnIweAOuGuzmnVCs1/ttNqX9NZDj/88Fx6OZnctKHHGvXhK4PiYWhUgC+fxYsX58rgq78U5FP5Y+pRzLx97H3nYnKuunwx2fnqyneuXlYC0kIAAhCAAAQgUAsCPqOnm3P6uup2mkIDCOq5MvrcedAmPw3H1ogELbt2zz33eJfHU1ql60aGcePG5WRQBH4tBVb2r4CEY8aMacyBHTJkSCZngvtVOAX59CXcMLW3AwcObCx/p+Hpn376afbuu+9mS5cuzRQkz05n9vfff/9MQ5dt1inIZ5en1f7WrVtzsmkFhrL7fM4vMdEqA4qJ8dhjj2Wa6619rYhgeJmtRmgounrZM1pd01KFJj97K4eBnGV65954441Mo21OPfVUb9rjjz/eOwImBfli6lHMvFvVm309FueqyyeGsdjZ9VO2XwvjACEhAAEIQAACEKgXgTLjp5Nrvi/4GvrZTl6vv/56blk1u/NTtj98+PBs06ZNbT3PLtu2bds6fravXL4h+r2UT7L+8ssvuQBevrK3OlfUge61fHZ9ttrXKBBXzlZTVzRSRbEV3PtCj2fOnNmxfhp5fvvtt0yjFEKf6aaT08qnm8o/BflUjph6FDNvU0ettjE5V12+mOxa1Zuu18tKQFoIQAACEIAABGpBIMQIaieN1op3OyG+aQCt8ly+fLl3uLSbt32sr/RFnZ1WzzPXNQXBzrPb/aLy9Eo+I+fGjRs7dg5o9IRGHZi8fNtey+crk++chvq7dayvkb609jlNQTjvvPNy97p5ucc33HBDy7zt55Tty6mhpRTdZ7Q61iiGVu9kCvJJ9ph6FDPvsnqzr8XkXHX5YrKz68i3XwvjACEhAAEIQAACEKgXAZ/R0825SZMm5ToqGkXQSZ6as+3Lz9fxmTx5crZly5aOnmOXTV/Bffl3eq7IMaBn9kI+W1YNo1eEb3X0Q+U77bTTgp0vvZbPlrVo/9VXX83J7gbkK7pX5zUaRg6pVvw0PUYdtbK8Or2m+AH77bdfyzKojArUWRZLwi1DCvLF1KOYebssy45jca66fGIai11ZfdXLSkBaCEAAAhCAAARqQaDM+Onkmoawaii2/a/lBDvJy9yj5fUUW0DL62kevyKyay7/GWeckWmu9fr167vK3zxHW839VqR6BdvT8nyLFi1qksWWy91X+nvvvTdbsGBBI49rr722MBic/cxdKZ/9XLOv0QP33XdfIzbDqFGjsqFDh2b77LNPNmzYsEwB7bREo2JHrFq1qiPOvZbPyOnb6qujW4+rV69uS045WBSL4ZZbbmlMMTjiiCMaOqpYFZdeemljvr+CPvqe31fnFMtCcsipocCGmlKjGBDHHHNMw7mm6QvtymXKloJ8KktMPYqZt+HYahuTc9Xli8nOV2+1MA4QEgIQgAAEIACBehHwGT2c+zNqJw6+8EUH0AF0oP/qQL2sBKSFAAQgAAEIQKAWBDBO+69xSt1Rd+gAOoAO7HodqIVxgJAQgAAEIAABCNSLAEblrjcqYQ5zdAAdQAf6rw7Uy0pAWghAAAIQgAAEakEA47T/GqfUHXWHDqAD6MCu14FaGAcICQEIQAACEIBAvQhgVO56oxLmMEcH0AF0oP/qQL2sBKSFAAQgAAEIQKAWBDBO+69xSt1Rd+gAOoAO7HodqIVxgJAQgAAEIAABCNSLAEblrjcqYQ5zdAAdQAf6rw7Uy0pAWghAAAIQgAAEakEA47T/GqfUHXWHDqAD6MCu14FaGAcICQEIQAACEIBAvQhgVO56oxLmMEcH0AF0oP/qQL2sBKSFAAQgAAEIQKAWBDBO+69xSt1Rd+gAOoAO7HodqIVxgJAQgAAEIAABCNSLAEblrjcqYQ5zdAAdQAf6rw7Uy0pAWghAAAIQgAAEIAABCEAAAhCAAAQgAAEIQAACEIAABCAAAQhAAAIQgAAEIAABCEAAAhCAAAQgAAEIQAACEIAABCAAAQhAAAIQgAAEIAABCEAAAhCAAAQgAAEIQAACEIAABCAAAQhAAAIQgAAEIAABCEAAAhCAAAQgAAEIQAACEIAABCAAAQhAAAIQgAAEIAABCEAAAhCAAAQgAAEIQAACEIAABCAAAQhAAAIQgAAEIAABCEAAAhCAAAQgAAEIQAACEIAABCAAAQhAAAIQgAAEIAABCEAAAhCAAAQgAAEIQAACEIAABCAAAQhAAAIQgAAEIAABCEAAAhCAAAQgAAEIQAACEIAABCAAAQhAAAIQgAAEIAABCEAAAhCAAAQgAAEIQAACEIAABCAAAQhAAAIQgAAEIAABCEAAAhCAAAQgAAEIQAACEIAABCAAAQhAAAIQgAAEIAABCEAAAhCAAAQgAAEIQAACEIAABCAAAQhAAAIQgAAEIAABCEAAAhCAAAQgAAEIQAACEIAABCAAAQhAAAIQgAAEIAABCECgnxL4888/M/5hgA6gA+gAOoAOtKcD/fRnn2JDAAIQgAAEIACBPAEMwfYMQXjBCx1AB9ABdEA6kP9F5QwEIAABCEAAAhDopwQwcDFw0QF0AB1AB9CB9nWgn/7sU2wIQAACEIAABCCQJ4Ax2L4xCDOYoQPoADqADuR/UTkDAQhAAAIQgAAE+ikBjFuMW3QAHUAH0AF0oH0d6Kc/+xQbAhCAAAQgAAEI5AlgDLZvDMIMZugAOoAOoAP5X1TOQAACEIAABCAAgX5KAOMW4xYdQAfQAXQAHWhfB/rpzz7FhgAEIAABCEAAAnkCGIPtG4Mwgxk6gA6gA+hA/heVMxCAAAQgAAEIQKCfEsC4xbhFB9ABdAAdQAfa14F++rNPsSEAAQhAAAIQgECeAMZg+8ZgXZjt2LEj+/3337O6yIucvAvoADrQjg7kf1E5AwEIQAACEIAABPopgXaMIF/ajRs3ZlOmTMn+8Y9/ZDNmzMjmzJmz83/27NnZ9OnTs2uuuSZ75ZVXuupgrl69uvGcY489NjvooIOywYMHZ6NHj84uuuiixvPWrVvXVf4+2dxz//3vf7MHHnggu/rqq7OTTjopO/DAA7N99903O/TQQ7MTTjihcV5yqkPt3tvqOAX5Vq1alV188cXZiSeemA0bNizbfffdsz322KPB+5hjjmnU49tvv922bJL9u+++y+66665s/Pjx2ciRIxvchgwZkp166qnZ9ddfnz3yyCPZL7/80lHerdiGXH/00Ud36q3R4XbK0yv5pDc33XRT4z2bOXNmTgYji9nqndR7evPNN2eTJk1q7IfwUZoUdDQm56rLF5NdqA7F1KNeyNdPf/YpNgQgAAEIQAACEMgTaMeg86V9+eWXswEDBrT8V4fEd3+rcx9++GHDAdDqGbvttluj47pt27aOnlNWDnX077jjjmzPPfdsKafKefDBB2fPP/98UDlSkE/OjOOPPz5INsknJ8F//vOfIPnE7rbbbsv22muvlvmPGDEie+2114LyLauvdq+tXLnSW7Zff/21ZVl6Ld+8efO8ZW/1vpjr55xzTksZU9DRmJyrLl9Mdu28a7E491K+/C8qZyAAAQhAAAIQgEA/JdCOYedLG+oYWLRoUcsOiJv/E088kQ0aNKitjs/w4cOzN954o+1nuc82x5999lmmUQqmI9XOdsGCBaXlSEG+f//7341RAe3IpbSqlzVr1pTK9+OPP2Zjx45tm90VV1zR0agLU2ftbDds2NAY+eHKrxEprfJJQT59/XfL3s5xK8dACjoak3PV5YvJrtX7YV+PxbnX8vXTn32KDQEIQAACEIAABPIEbOOtk/1Qx8BTTz3VsqNlP//NN98M+srs6wTtv//+2RdffNHW8+xnm319Mdawd98zQs5pFMNLL73kLUcK8qlsoaMgfPJqKsX333/vle+PP/7IzjrrrI7ZaXqBqYdYW00VOProo71l1HSVsuemIp+mEfjqJvRcmWMgBR2Nybnq8sVkV/ZuuNdicU5BvvwvKmcgAAEIQAACEIBAPyXgGnHtHmvOuebXn3baadmFF16YTZ061Tssffny5aUdLfu5P/30UzZ06FBvh0fxCjT0W8NSly1blp1//vnedJonb+fZyb6GwPs6WIcddlg2f/78xrD3jz76KHv22Wezs88+25t23LhxuXKkIJ+Map/TQ0P+r7rqqmzt2rWNuABbtmxpjMC44IILvPLdeeedOfnEeuHChd70hx9+ePbQQw9l77zzTmPEgeIOyMHg4yynUyf1FnqP5tj7nqtzmg5Slk8q8l1yySVNMoivylb0r/pSLIJp06ZlurdoJE8KOhpTj6ouX0x2Ze+Fey0m5xTewX76s0+xIQABCEAAAhCAQJ6Aa8j1xbE6e26HK3TOvZ7vM/gGDhyYrVixwttZU+A493k6LvpaHyKjYhXsvffeuXzV0S/6Su4rt8rx7bffNpXbl25Xyyc2PmZythTxUdBF9x4FYXTTa6SFr7OvwIMa+uumV9AwxS1w85bDyU3bV8dz587NPc9+vgJKFj0rJfnkkLPLPXHixMJyF8njO5+CjsbkXHX5YrLz6UvRuVicU5Ev/4vKGQhAAAIQgAAEINBPCRQZdN2c9zkGXnzxxeAOi7562p0d7atTWlYmRdN379EX0bJ7yq49+eSTufz222+/QqeAyUsdSrccGkprrmubgnxaXUFl1coDpry+Tr5d7vXr1+9Ma+7xfVlfunRpLp1GInz11VdNHOy8P/7440zOEZOv2SoGgJ2uL/afe+65JrnNs+ytAiEWPSsl+caMGdPErK+mYKSgozE5V12+mOyK3gvf+VicU5Gvn/7sU2wIQAACEIAABCCQJ+Az5ro9141jQLEB7A6a9tWp1LKIZeX69NNPc/cpEGHZPWXXrr322lx+l19+ecv89FXcLb+mPphnpSKfKY/m2WupR426aLUUoUZRuLL5GPuG6Gt6gnlm0VZLT7r5P/zwwy3vK8rPd14OCDl47OcozsKZZ57ZdK7MMZCSfIqFYMuiZQl9crdzLhUdjcW56vKprmOxS0WPUpBPLPK/qJyBAAQgAAEIQAAC/ZRAO4ZeaNpuHAOLFy9u6uio06Mo9SHP9i25p1UFQu5107zwwgvZrbfe2jCwNX3gkEMOyRRZ201nH2t4qy82wueff77zvlTks8sduu+bfuCLoTBs2LCmOpRjJ+TLv0aV2J1c7ctZEFq+Vum2bt2aKT6E+4x77rmnsaSifb7MMZCKfIoT4QaPfOSRR7rmlYqOxuJcdfn0HsRi1+ods6/H5JyCfJK1n/7sU2wIQAACEIAABCCQJ2Abcn21341j4Pbbb8913Mrmvdtl9kVoX7JkSdcdJfsZZfsaxm13LrXvRrfvr/IproI6y658Dz74YBPf33//Pbf84ejRo5vSFDFUoDKt5GA/wzdVoej+svMql280h6ag6D4F47OfW+QYSEk+xWawy6x9xfLQlI+bb745mzBhQqPOtEqHltzU1BoFHyyb0iEWKehoTM5Vly8mu7J3zL0Wi3Mq8kne/C8qZyAAAQhAAAIQgEA/JeAac31x3I1j4LLLLst1djTUPaRcvnmns2bNCro3JP+iNDt27Mh8Uw/UUXNjI6Qs3/bt2zONbtCUARnf+sL+7rvvZgrU5wsmqE670tpc1Ol0O6vqoNppyvbdOcmKO1CWPvTa3//+91y5FPBQozyUhzrSdrmLHAMpyaeVOewya1+rRwwaNCh33k6nqRRlUzRS0NGYnKsuX0x2oe+b0sXinIp8krGf/uxTbAhAAAIQgAAEIJAn0I6hF5q2G8eA76uuG9W/qBwK8md3gLTfV8HYip6pIfKKnu8+V8dHHnlk9vPPPzd1bFOWT9MufHL4zslR8MknnzTJJkZvvfVWLo8rr7wyl66Ip4+P63wourfovG/VCpVfHQxzT6hjICX5fFM7fHVVdO6ss85qOIAMA7P11cGufgdjcq66fDHZGR0J2cbinIp8YpD/ReUMBCAAAQhAAAIQ6KcEQgy8dtN04xgYNWpUU8dSXz9Dn//RRx813asOkYJUhd7fbjp1ON1AdqYTdsABB3g7zinLF+IYkFzqRG/ZssXL9emnn87VwezZs71pfbzPPffc3P0KFudLG3Ju7dq1udUOFPNgzZo1TXmGOgZSks/n8DD6p+0ee+zhHelhp1mwYEETBzFNQUdjcq66fDHZhbxzJk0szqnIJzn76c8+xYYABCAAAQhAAAJ5AsaI68ttN46BIUOGNHUM9WU3tGy+5fT0VTT0/tB0mtt99tlnN5XT7mxpTn1R0MOU5QtxDEhODcEvCsSoZRBtFtq///77g+tg8uTJufvfe++94PvtOtSIADdqv8qzaNGiXH6hjoGU5LvjjjtyrCTf2LFjM42eMdMkNOLiX//6V+bqntIOHjw4p6tuul68gzE5V12+mOzs96vVfizOqcgn+fO/qJyBAAQgAAEIQAAC/ZRAK+Ouk+vdOAbcqPGKuq7o6yHl8M25njp1atC9Ifkrjb40uwavOljmX7EGTIfMl2fK8vkcK0Yu31ZziF1Z5TBw06oD62PhO+cbMfD1118H32/yVCDDo446KleWohUuQh0DqcgnOX1OlOnTpxey0igP36oZir9guGmbgo7G5Fx1+WKys/Wk1X4szqnIJ/n76c8+xYYABCAAAQhAAAJ5Aq2Mu06ud+MY8M3X1xf6kHKo0+52SmfMmBF0b0j+Dz30UKZh6O4zdKzlszTnu1U+KcunsmvUwDfffNMIKvjjjz9mH3/8cfbMM880pmTsvvvuOdm1EoQts2/e+1VXXdWUxk7v7p9yyilNzxDvUMeQyUvBIM8444ymfFRHJ554YqYAiyadvQ11DKQgnym3yjJnzpzsuuuuawQdlKPAXCva+oZhn3766U33paCjMTlXXb6Y7Ir0ync+FudU5JPM+V9UzkAAAhCAAAQgAIF+SsBn0HV7rhvHgG+I/gcffNDUcSkqn2/OdV+s667nKR+fQ0DnLrzwwkYE/6Jy2edTlc8uY9G++LrLCarjbgchfP/993OczjnnnKD603MPPfTQpvs7Wa5QDhxfXWm5PjkAfP/HHXdc7h6N/tAIg4kTJ2YnnXRSY8WGFOQrqp+Q83KauM6tQw45pKl+UtDRmJyrLl9MdiE6ZtLE4pyKfJKzn/7sU2wIQAACEIAABCCQJ2CMuL7cduMY0PJ+bqdu5cqVTR2XorJqBQL33ldeeSXo3qI8dV5rw2tKg5u3Olj33ntvW/mnKF+Z7O61iy66KMfBDmCn0R0uJ8UkcPPxHWuEgnuv5sv70padu+eee3L5uPl2cvz2229nKchXJnvItZEjRzbxkbNHy1Oae1PQ0Zicqy5fTHZGR0K2sTinIp8Y5H9ROQMBCEAAAhCAAAT6KYEQA6/dNN04BhQkze203XjjjTs7LWVl8c0pLwoCWJaPfW3dunXZPvvskyuTViNYvXp1ULns/FKTzy5byL4v8Jc7b9/teMqp8sMPP7RktWLFihxnOSJCymWniekY0HN6LZ8tayf7bkBGN7hgKjoai3PV5UtFR2NyjqUb7b5P/fRnn2JDAAIQgAAEIACBPIF2DaGQ9N04BrReuusY0PBy+4umrwy+wINaWk9Dp33pQ8/5hpgr304j5acgnwIGahk/rRYwZcqURpC+CRMmBHF68MEHc/Xj3uv7UhgypcMXeHDhwoVB5bLrM7ZjoNfy2bJ+//332QsvvJApwOOSJUtaslL8CPf9UlwHO88UdFTlicW56vLFZGfrSav9mJxj6UYrmdzr+V9UzkAAAhCAAAQgAIF+SsA1dPriuBvHgJ6v5f7czovmOBXHSAAAIABJREFUjZeVTfPY3Xu6XZFg+fLluTz19XvVqlWlZSkrZwryPfvsszm5NJzcjhVQJINv3rCmcNjply1blst/xIgR2c8//9yUzr5HIzN80zW05KCdLmRfc5Cvueaa7NZbb210mGfOnJnNnj279N8NlLb//vtns2bNym677bZGcD/FkdiwYUOjLL2WTwzES0xtndeX/1YjMzS6w75H+279Kf8U3sGYnKsuX0x2Ie+gSROLcyry9dOffYoNAQhAAAIQgAAE8gSMAdeXW33ldTsfL774YnAHb/78+bn71Wn0fXVWxHp14Nzn6VhruXcql/IdNWpULl9FgO80T3Nfr+VTZH6NenCZaXjul19+WSjf3XffnbtHeWj5MCObtnIAqJPq5q/RF5ofbKfVvqZ7HH744bn048ePz6V17+2rY9WrXV51uovyTkE+jfrwMT755JMbq0r4yr548eImGY28bv3p3l7rqMoQk3PV5YvJzqdbRedicU5FvvwvKmcgAAEIQAACEIBAPyVQZNB1c37evHm5DkhoAEE9V0afOw/adGI03FwjErTsmoaMu1967XTdyPDaa6/lZFDemtagZ5b9K9ievpQpreITuHPwU5Bv2rRpXvkGDhzY+EKu4emffvpp9u6772ZLly7NFATQsLW3+rKuIcMua59zSPdplQHFjHjssccyzUHW/uDBg3N5awSDvvy7+cY61ggDWy7VXdmzUpBPSxXaZTb7chjIWaZ37o033sg02ubUU0/1pj3++OO903RS0FHxj8W56vLFZFf2XrjXYnKOpRuuDGXH/fRnn2JDAAIQgAAEIACBPIEyo6fTa74v+Br62U5+r7/+em5ZNdPxabUdPnx4tmnTprae55bNXde+1TPLrmsYupt/r+X75ZdfckH0ymQouqYlDF3ZdKwRF4o9UHRfq/Ma/u/LN9a5yy+/vKmsw4YNK31+CvL99ttvmS8GRiu25vqgQYNKp4/0Wkdj61HV5UtBR1WHsTinIF/+F5UzEIAABCAAAQhAoJ8SiNHR8nWqfdMAWj1bc/x9w6VNx8a3HTJkSGlnp9UzzXUNY/fl38k5n2NAz+mlfHr+xo0bO3YOaKlGjTowvHxbLT943nnntc3xhhtuKM3X96xuz7nLMGokRKs8U5Bv8+bN2emnn942Y43SCHkne62jqoOYnKsuX0x2rd4P+3oszr2Wr5/+7FNsCEAAAhCAAAQgkCdgG299tT9p0qRcR0WjCDrJX3PSffn5OuiTJ0/OtmzZ0tFz3LIdcsghORl8zww5V+QY0DN7JZ+Rd+vWrY3o7+roh8iiNKeddlpbzheNFpHDplX+mj6iDoQp267cjhs3Lle+bdu2BZUlBfkUP0BLaLZirOsK1FkWS8Ll3msdNeWJxbnq8olfLHambkK2MTn3Sr78LypnIAABCEAAAhCAQD8lEGLQtZtGQ0c1r9n+13KC7eZjp9fyeootoOX1jj322EZE9jFjxmRnnHFGprnW69ev7yp/+1naX7BgQTZ37tzsvvvuyxYtWtQkiy2Xu6+0ukeB+lQujZ4IWUZuV8vnyqvRAyq3Yjgo6OLQoUMb8RE0pF4B7TTUXrEjOl2RQQ4IxSq45ZZbGlMMjjjiiEYdqkN+6aWXNubDKyiiW65ddayYEm5d/vTTT8HlSUE+reAgGbTKgEa8aEqNRj4o5oWca5qesXr16mCZXPa91lGVJybnqssXk52rK2XHsTj3Qr5++rNPsSEAAQhAAAIQgECeQJkBx7U/O+5EwQ526AA6gA5UWwfyv6icgQAEIAABCEAAAv2UAIZrtQ1X6pf6RQfQAXQgjg700599ig0BCEAAAhCAAATyBDAY4xiMcIUrOoAOoAPV1oH8LypnIAABCEAAAhCAQD8lgOFabcOV+qV+0QF0AB2IowP99GefYkMAAhCAAAQgAIE8AQzGOAYjXOGKDqAD6EC1dSD/i8oZCEAAAhCAAAQg0E8JYLhW23ClfqlfdAAdQAfi6EA//dmn2BCAAAQgAAEIQCBPAIMxjsEIV7iiA+gAOlBtHcj/onIGAhCAAAQgAAEI9FMCGK7VNlypX+oXHUAH0IE4OtBPf/YpNgQgAAEIQAACEMgTwGCMYzDCFa7oADqADlRbB/K/qJyBAAQgAAEIQAAC/ZQAhmu1DVfql/pFB9ABdCCODvTTn32KDQEIQAACEIAABPIEMBjjGIxwhSs6gA6gA9XWgfwvKmcgAAEIQAACEIAABCAAAQhAAAIQgAAEIAABCEAAAhCAAAQgAAEIQAACEIAABCAAAQhAAAIQgAAEIAABCEAAAhCAAAQgAAEIQAACEIAABCAAAQhAAAIQgAAEIAABCEAAAhCAAAQgAAEIQAACEIAABCAAAQhAAAIQgAAEIAABCEAAAhCAAAQgAAEIQAACEIAABCAAAQhAAAIQgAAEIAABCEAAAhCAAAQgAAEIQAACEIAABCAAAQhAAAIQgAAEIAABCEAAAhCAAAQgAAEIQAACEIAABCAAAQhAAAIQgAAEIAABCEAAAhCAAAQgAAEIQAACEIAABCAAAQhAAAIQgAAEIAABCEAAAhCAAAQgAAEIQAACEOiUQDZgwICQ/07z5z4IQAACEIAABCAAAQhAAAIQgAAEEiYQ4hRQGv4gAAEIQAACEIAABCAAAQhAAAIQqCABHAMVrFREggAEIAABCEAAAhCAAAQgAAEIhBLAMRBKinQQgAAEIAABCEAAAhCAAAQgAIEKEsAxUMFKRSQIQAACEIAABCAAAQhAAAIQgEAoARwDoaRIBwEIQAACEIAABCAAAQhAAAIQqCABHAMVrFREggAEIAABCEAAAhCAAAQgAAEIhBLAMRBKinQQgAAEIAABCEAAAhCAAAQgAIEKEsAxUMFKRSQIQAACEIAABCAAAQhAAAIQgEAoARwDoaRIBwEIQAACEIAABCAAAQhAAAIQqCABHAMVrFREggAEIAABCEAAAhCAAAQgAAEIhBLAMRBKinQQgAAEIAABCEAAAhCAAAQgAIEKEsAxUMFKRSQIQAACEIAABCAAAQhAAAIQgEAoARwDoaRIBwEIQAACEIAABCAAAQhAAAIQqCABHAMVrFREggAEIAABCEAAAhCAAAQgAAEIhBLAMRBKinQQgAAEIAABCEAAAhCAAAQgAIEKEsAxUMFKRSQIQAACEIAABCAAAQhAAAIQgEAoARwDoaRIBwEIQAACEIAABCAAAQhAAAIQqCABHAMVrFREggAEIAABCEAAAhCAAAQgAAEIhBLAMRBKinQQgAAEIAABCEAAAhCAAAQgAIEKEsAxUMFKRSQIQAACEIAABCAAAQhAAAIQgEAoARwDoaRIBwEIQAACEIAABCAAAQhAAAIQqCABHAMVrFREggAEIAABCEAAAhCAAAQgAAEIhBLAMRBKinQQgAAEIAABCEAAAhCAAAQgAIEKEsAxUMFKRSQIQAACEIAABCAAAQhAAAIQgEAoARwDoaRIBwEIQAACEIAABCAAAQhAAAIQqCABHAMVrFREggAEIAABCEAAAhCAAAQgAAEIhBLAMRBKinQQgAAEIAABCEAAAhCAAAQgAIEKEsAxUMFKRSQIQAACEIAABCAAAQhAAAIQgEAoARwDoaRIBwEIQAACEIAABCAAAQhAAAIQqCABHAMVrFREggAEIAABCEAAAhCAAAQgAAEIhBLAMRBKinQQgAAEIAABCEAAAhCAAAQgAIEKEsAxUMFKRSQIQAACEIAABCAAAQhAAAIQgEAoARwDoaRIBwEIQAACEIAABCAAAQhAAAIQqCABHAMVrFREggAEIAABCEAAAhCAAAQgAAEIhBLAMRBKinQQgAAEIAABCEAAAhCAAAQgAIEKEsAxUMFKRSQIQAACEIAABCAAAQhAAAIQgEAoARwDoaRIBwEIQAACEIAABCAAAQhAAAIQqCABHAMVrFREggAEIAABCEAAAhCAAAQgAIH6EDh6wIAB/9+AAQNCO/i7Op3Kdmx9qgNJIQABCEAAAhCAAAQgAAEIQAACu57Auwk7Bt7f9Th4IgQgAAEIQAACEIAABCAAAQhAoF4Ejkl01ACjBeqlh0gLAQhAAAIQgAAEIAABCEAAAj0k8F6CowYYLdBDheDREIAABCAAAQhAAAIQgAAEIFAvAqmNGmC0QL30D2khAAEIQAACEIAABCAAAQhAIAECKY0aYLRAAgpBESAAAQhAAAIQgAAEIAABCECgXgRSGTXAaIF66R3SQgACEIAABCAAAQhAAAIQgEBCBFIYNcBogYQUgqJAAAIQgAAEIAABCEAAAhCAQL0I9HrUAKMF6qVvSAsBCEAAAhCAAAQgAAEIQAACCRLo5agBRgskqBAUCQIQgAAEIAABCEAAAhCAAATqRaBXowYYLVAvPUNaCEAAAhCAAAQgAAEIQAACEEiYQC9GDTBaIGGFoGgQgAAEIAABCEAAAhCAAAQgUC8Cu3rUAKMF6qVfSAsBCEAAAhCAAAQgAAEIQAAC/YDArhw1wGiBfqAQFBECEIAABCAAAQhAAAIQgAAE6kVgV40aYLRAvfQKaSEAAQhAAAIQgAAEIAABCECgHxHYFaMGGC3QjxSCokIAAhCAAAQgAAEIQAACEIBAvQjEHjXAaIF66RPSQgACEIAABCAAAQhAAAIQgEA/JBBz1ACjBfqhQlBkCEAAAhCAAAQgAAEIQAACEKgXgVijBhgtUC89QloIQAACEIAABCAAAQhAAAIQ6McE/t+AAQOyPv5ntEA/VgiKDgEIQAACEIAABCAAAQhAAAL1ItDXowYYLVAv/UFaCEAAAhCAAAQgAAEIQAACEKgAgb4cNcBogQooBCJAAAIQgAAEIAABCEAAAhCAQL0I9NWoAUYL1EtvkBYCEIAABCAAAQhAAAIQgAAEKkSgL0YNMFqgQgqBKBCAAAQgAAEIQAACEIAABCBQLwLdjhpgtEC99AVpIQABCEAAAhCAAAQgAAEIQKCCBLoZNcBogQoqBCJBAAIQgAAEIAABCEAAAhCAQL0IdDpqgNEC9dITpIUABCAAAQhAAAIQgAAEIACBChPoZNQAowUqrBCIBgEIQAACEIAABCAAAQhAAAL1ItDuqAFGC9RLP5AWAhCAAAQgAAEIQAACEIAABGpAoJ1RA4wWqIFCICIEIAABCEAAAhCAAAQgAAEI1ItA6KgBRgvUSy+QFgIQgAAEIAABCEAAAhCAAARqRCBk1ACjBWqkEIgKAQhAAAIQgAAEIAABCEAAAvUi0GrUAKMF6qUPSAsBCEAAAhCAAAQgAAEIQAACNSRQNmqA0QI1VAhEhgAEIAABCEAAAhCAAAQgAIF6ESgaNaDRArrGHwQgAAEIQAACEIAABCAAAQhAAAIVJ6CRAZnzz2iBilc64kEAAhCAAAQgAAEIQAACEIAABAwBd9QAowUMGbYQgAAEIAABCEAAAhCAAAQgAIGaELBHDTBaoCaVjpgQgAAEIAABCEAAAhCAAAQgAAFDwIwaYLSAIcIWAhCAAAQgAAEIQAACEIAABCBQMwIaKcBogZpVOuJCAAIQgAAEIAABCEAAAhCAAAQMAY0aYCUCQ4MtBCAAAQhAAAIQgAAEIAABCEAAAhCAAAQgAAEIQAACEIAABCAAAQhAAAIQgAAEIAABCEAAAhCAAAQgAAEIQAACEIAABCAAAQhAAAIQgAAEIAABCEAAAhCAAAQgAAEIQAACEIAABCAAAQhAAAIQgAAEIAABCEAAAhCAAAQgAAEIQAACEIAABCAAAQhAAAIQgAAEIAABCEAAAhCAAAQgAAEIQAACEIAABCAAAQhAAAIQgAAEIAABCEAAAhCAAAQgAAEIQAACEIAABCAAAQhAAAIQgAAEIAABCEAAAhCAAAQgAAEIQAACEIAABCAAAQhAAAIQgAAEIAABCEAAAhCAAAQgAAEIQAACEIAABCAAAQhAAAIQgAAEIAABCEAAAhCAAAQgAAEIQAACEIAABCAAAQhAAAIQgAAEIAABCEAAAhCAAAQgAAEIQAACEIAABCAAAQhAAAIQgAAEIAABCEAAAhCAAAQgAAEIQAACEIAABCAAAQhAAAIQgAAEIAABCEAAAhCAAAQgAAEIQAACEIAABCAAAQhAAAIQgAAEIAABCEAAAhCAAAQgAAEIQAACEIAABCAAAQhAAAIQgAAEIAABCEAAAhCAAAQgAAEIQAACEIAABCAAAQhAAAIQgAAEIAABCEAAAhCAAAQgAAEIQAACEIAABCAAAQhAAAIQgAAEIAABCEAAAhCAAAQgAAEIQAACEIAABCAAAQhAAAIQgAAEIAABCEAAAhCAAAQgAAEIQAACEIAABCAAAQhAAAIQgAAEIAABCEAgbQJ//vlnxj8M0AF0AB1AB9ABdAAdQAfQAXQAHUAH0IF66EDOS0HF16PiqWfqGR1AB9ABdAAdQAfQAXQAHUAH0AF0QDqAY4AREowQQQfQAXQAHUAH0AF0AB1AB9ABdAAdqLEO4BioceXjHcQ7iA6gA+gAOoAOoAPoADqADqAD6AA6gGMAxwCeQXQAHUAH0AF0AB1AB9ABdAAdQAfQgRrrAI6BGlc+nkE8g+gAOoAOoAPoADqADqAD6AA6gA6gAzgGcAzgGUQH0AF0AB1AB9ABdAAdQAfQAXQAHaixDuAYqHHl4xnEM4gOoAPoADqADqAD6AA6gA6gA+gAOoBjAMcAnkF0AB1AB9ABdAAdQAfQAXQAHUAH0IEa6wCOgRpXfruewR07dmS///47DQY6gw6gA9F04Ndff42Wd7ttHun5eoIOVE8HaGOqV6e8p9QpOtA3OhDFMXDPPfdk1113XTZ9+vRs1qxZ2Zw5c3b+z5w5M5s2bVp2ww03dGX8rV69OpsyZUp27LHHZgcddFA2ePDgbPTo0dlFF13UeNa6deu6yj9Ewf773/9mDzzwQHb11VdnJ510UnbggQdm++67b3booYdmJ5xwQuP8K6+8kqlDHZKfnea7777L7rrrrmz8+PHZyJEjG/kOGTIkO/XUU7Prr78+e+SRR7Jffvml7XztZ7TaX7VqVXbxxRdnJ554YjZs2LBs9913z/bYY48G72OOOSa75pprsrfffrujMqQgX5n8jz766E6dNfrbDu9eyaf34qabbmq8e3rXTNmLtrNnz85mzJiR3XzzzdmkSZMa+2Vc7Gu9fAdpY6rRxmzdurXxGzFhwoTsyCOPbLRzAwYMaGwPP/zwRvv30EMPZT/++GPb7Uyv3kH7HSnb77aNUd69egdvu+22TP9qO9SGFLUv5rzsgNtvv73xm3jWWWdl69evD6rPXskntruijUlBR6tux9DG/GV/631sx46hjZmT7Yq+RMx2IGbeZb9v7rVYbXnV5evFOxjFMaCOpIy7sv9BgwYFGQaucn344YcNB0BZ3rq22267NTqu27Zt6+g57nPtY3X077jjjmzPPfcsldGU8eCDD86ef/75oHIobxlce+21V8u8R4wYkb322mtB+drlb7UvZ8bxxx/f8vlGPjkJ/vOf/wSVIwX5Wsm/cuVKr+whXxl6Ld+8efO8ZTd11Wp7zjnntKzHFN5B2pjm9rW/tTHq6MuBJUdqK53Udf1eqBMaMmKp1+9gq/ZF17tpY3R/r9/B0HorqtsPPvigtJ3ptXxiHLONSUFHVYYq2zG0MZ3bMbQxf/2+xu5LxLL3U2hjYupR1eWLyU55l/33zDGgr/xlBfNde+KJJxoGYpGx4Ts/fPjw7I033mj7Wb7n69xnn33WGKXge1arcwsWLCgth37Ixo4dG2Qo28+64oorOhqV4JPx3//+d2NUgJ1/yL4M9zVr1iQvn09m+9yGDRsaIz9cmTUixU7n20+h/tR5csveznErx0AK76DYhxjttDH5xj8FHZWzNqT+fHp79tlnZ3/88Ufhu5iCfL62wT7XTRujfFJ4B0Od4r461Lkyx0AK8sVsY1LQ0arbMbQxndsxtDF/OQXs9quv+xIx24GYedu/Za32Y7XlVZev1+9gzxwDRxxxRKFx51O2N998M+gruv0im/39998/++KLL9p6nq8M+mKsYf0m33a38jy+9NJL3nLI2NUQy3bzNOk1vcBX5nbOqWzdGHyaSvH99997y5GCfK1YaIjd0Ucf7a2DVp3MVOTTV1ijE51syxwDKbyDpg5DOpa0Mc2OgRR0VGU4+eSTu9JRTZExemBvU5DPLo9vv5s2Rvml8A7qd7CTtsW+p8gxkIJ8pt5itDEp6GjV7RjamM7tGNoYv1PAtF191ZeI2Q7EzNu0jSHbWG151eVL4R2M4hi4/PLLG8afOhmaoz516tRcp37MmDFe486ncD/99FM2dOhQrzGiee4alqmhh8uWLcvOP/98bzr9yPvybuechvyYBsLeHnbYYdn8+fMbw/o/+uij7Nlnn830ZctOY/bHjRvnLcfChQu96TXPVnNs33nnncYXecUdUAfc5GdvX375ZW/eITLqZfM5PTSl4aqrrsrWrl2baS7Pli1bGiMwLrjgAm8Z7rzzTm8Zei1fCAPNsbd52vsaql2WRyryXXLJJU0ySH9UtqJ/1ZeJ+6F7Fy1a5JUzlXfQ1AFtTP9rY1R3S5cubdJP846p7fm///u/xogs6drnn3+e3X///d52/4ADDsh803pSeQeNjvq23bQxqbyDGvFg6s1sFVOoqI3RSDnNbVbMIf1eT5w4sfFb4vJJRT5Trr5uY5RvCjpaZTtGjGljOrdjUnkHq97GxGwHYuZt2sZW25h6VHX5YrJrVW/mehTHgMnc3srTZowIbRU00L5etu9ThIEDB2YrVqzw5qGgTvazzH7R1/qyZ5trGpq299575/JVR7/oK7mv3CrLt99+21RuGbm+zr4CD2rIjCmD2aqDrnn9Ri6zVcBDk6bdrdiYfOytnC1FeSnoop1W+wrC6KZPQT63TO7x3Llzc7LYsimgpHuPOU5JvtNOO61JDhnhppzdbH26vKvfwVblp43562tHim2M6k9tlP1eaV+/Bb6OvtJryPN+++2Xu0eBUW19SOkdtMtl73fTxiifVN5BOYndOvz000+b6sOWO3Q/FfnKyttNG5OCjlbdjlHd0cb89TvgvqdldozYpfIOVrmNidkOxMy7rF10r8XSo6rLl8o72DPHgILbucpUdKyvnm4Dp05pUXqd10gF9x59ES27p+zak08+mctPBmuRU8DkpYbYLYeG2Jjr2vo83PpS/9VXXzWls+/5+OOPM3XM3LzlabXThe5rdQWVVSsPmDx9nXw7P0WWNmnN1vdlPQX57HK7+88991yT3EYWe6tAj+595jgl+TQSxy53X0wxkZwpvIOGd9HWNdppY/6aSpCCjmoYverE7ei7nXy3fn1t+ZIlS5rexxTkc8ttH3fbxiivVN7B5cuXN7Uxam98Dmxb/pD9VOQrK2s3bUwKOlp1O4Y25i/7zbYDzH6ZHUMb89fvpd0G+H5/uulLxGwHYuZtM2m1H6str7p8qbyDyTsGFBvANGpmq07zxo0bmwxDV1H1BcOkN1sFD3HThR5fe+21ufw01LDV/frqb55vtpr6YN/nG16q4ft2Gt++lmY0eZrtww8/3PI+X17mnH5YtTyLRl20WopQXx/Mc83Wxzgl+YycZisHi9tRUZyFM888s0m2sh/UlORTLARTF9pqCK+RtdNtKu9gq/J3arSnIl9d2hjVo5yeL7zwQmO511b1qmHqtk5r323nUnoHXXn6oo1JRUclm6Yb2fUREpjVZeIepySfWzb7uNM2RnmkoKO0Mf7OH23Mn404XPZ7rf1e2Np6V6rcxsRsB2LmbbeDZfsx2/KqyxeTXVmdudeSdwwsXry4yQhRY6Uo/K4gvmPfknsamupL2+qcjNhbb7218eOu6QOHHHJIIzp02X0a9uKLjaD5s/Z9w4YNa5JRjXHIl/8XX3yx6T6xkbPAzjvmvm/6gS+GQqryaX1jxYdwfwy1frU7D7PMMZCKfIoT4QaPfOSRR7rWh1TewVa63KnRnop8tDF+o903NNhdpjWVd9DV0b5qY1LRUcmnJe7sNtM3Sszl0Oo4JfnKytppG6M8U9BR2hjamCL9TukdrHIbE7MdiJl3kd6452PqUdXli8nOraey4+QdA7fffnuTESKDpGzeuy2sL0K7OwTVTt/X+xrGbRtQ2nej22td7j322KMp3ejRo4M6cwpSoZUO7Gf0hZEWwkFTKNRZtp+t/QcffLCp7KnKp3L5RnNo2JjknzZtWpNsRY6BlORT7Am3Pp5//vlMUz5uvvnmbMKECY06k3Gred0aDqfgg2VTVsSiv7yDnRrt/UU+33tZ5TZG8spJ5+q0jAO9d4ZHSu+gKZO2fdXGKK+UdFSj2ew6UVsip6RGmV166aWN6SIKEKnfojPOOCPT7/Azzzyzs75sRmY/JflMmXzbTtuYVHXUJ6N7jjbmf+9yinYabUz/amNitgMx83bbhLLjWG151eUT01jsyurLdy15x8Bll13WZITIINFQd58w7jnffJRZs2YF3evm1c7xjh07Mt+QPZXdjY2gTpltZGlfHbjQ57lzeRR3IPTeVum2b9/eiA6uKQN6KfX16913380URMsXLFGGoNLa+aYq39///vccdwV01CgPlV8dabteihwDKcmnlTnsMmtfq0cMGjQod95Op6kU7tBsuw77yzvYqdHeX+Sz66QqbYxk2rRpU7Z58+ZM7c1vv/3WcGTJoaV20NZTs3/vvffWqo0Ro5R09Nxzz22qF42e8wXDNfVltqeffnqhEzIl+ez3zN3vtI1J6XfClanomDbmr9EFqdZfX9kx0oGU3sGqtjEx9Shm3kVthO98LD2qunwpvYPJOwZ8X3XdiNs+5dQ5BfkzRonZ9lUwtqJnagqAb+irnn/kkUdmP//8c5NR+9Zbb+XKeOWVVzalKXqWzvv4uJ3zsvvLrmnaheHWaitHwSeffJIrd4ry+VatUPnV8BgeoY6BlOTzTe3NliM1AAAREElEQVRoVW/29bPOOqvpS6xh4dOxFN/BTo32/iKfqY8qtTGSyRcrxdZLe9/Xfqf0Dpo66ss2RnmmpKNFv292PRXtywn5yiuv7GxnDa+U5DNl8m07bWNS1FGffOYcbcxfTgExSbH+aGP8qy+k3MbE1KOYeZt2IWQbqy2vunxiG4tdSL3ZaZJ3DIwaNaqpc6qvn7YAZfsfffRR070yVhS8ouyebq6poXYD2RkDSUMrfR3np59+OlfG2bNnB5fR9azqeQpg0Y0c5t4Qx4DkUid6y5Yt3memJp+WwXFXc1BMhzVr1jSVP9QxkJJ8PkPB6J+2GgrpG+lhp9Ga46b+zba/vIOdGu39RT7VR9XaGMkU4hjQD6Yi+xudtLcpvYMqV1+3McozJR31rbRjtyF6D/fZZ5/c75pJo6kg7ioGKcln65a732kbk5qOunLZx7QxzU4BsUmt/mhj+mcbE1OPYuZttw+t9mO15VWXT1xjsWtVZ+715B0DQ4YMaTIw1LFxhSg69i2np6+iRek7Pa+53WeffXZTOY0RpK1iBhQFPdQygXZa7d9///3BZZw8eXLu/vfeey/4/jKZQxwDKq+GkT7xxBPeZ6Ykn0YEuFH7VX5FwHU5hDoGUpLPDdhj9Grs2LGN0TNmmoRGlPzrX//K3HdL6RVh3NVVN12K76Dqr1OjvT/IV9U2RvUW4hj429/+1hjq+s033+Te1ZTewRhtjBiloqOaUiZHqmlbzFaOAMUr+frrrxv1o5gDakeK6nbq1KlN9ZiKfO7vgHvcaRuTko66Mplj2hjaGPM+a9ur3/kqtzEx24GYeZs2ImQbqy2vunxiG4tdSL3ZaZJ3DLhR4xV1XUaHLUTRvm/OtWuQFN0bel5fmt3KtBtXxRowHTJfnupQ2+m1rw6eL63vnG/EgDHOfOnbOedzrLhltY81t8iVNRX5FKjxqKOOyrEuWuEi1DGQinyqV5+TaPr06YW6pFEevlUzNG/R1pPU30FT1k6N9tTlq3Ibo7rzrRNttyv2vtraVatWNelnKu9grDZGjFLRUd9vgpao1XnzHrpbxaSx69Ds21PeUpHPLbt73Gkbk4qOuvKYY9qYv4al08b8j0WvbO0qtzEx24GYeZt2ImQbqy2vunxiG4tdSL3ZaZJ3DPjmM8qzbQtRtK8fO2OEmO2MGTOC7i3K0z7/0EMPeb+e6FkaLqk533Z6375vXriiPvvS+s6dcsopTTLqa06o48SXn3tOX330lU5GnIZ/ak1uRZjWlIzdd9+96dmSWxGo7TxSkE9BlBQd2+iA2Z544omNgGd2ec1+qGMgBflMmVWWOXPmZFqTWUEH5Sgw14q2vuFZChJmp0/5HbTL2anRnrJ8dWhjtMKJjMEffvihEYNFwQg1VFa67P5Q6t3VdC0FKzR1n8I7GLONkZyp6KiciQr+qKV75QhWu6plc01d+Lb6AjhmzJhc+/v222/vvC8V+Xzlt8912sakoKO2HPY+bUx+yWLamP85B3pha1e5jYnZDsTM224vWu3HasurLp+4xmLXqs7c68k7BnxD9D/44IOdBoUrkH3sm3PdF+u66xnKx3Qw3e2FF17YiOBvl6Vo//3338/lc8455wTJpzzd+Z67arlCPVt83eUS5ZiwYymkIJ8MH7eOdKzl+uQA8P0fd9xxuXs0+kMjDCZOnJiddNJJjRUbUpCvSLdCzqtD4w4NVpRx+95U30G7jNrv1GhPVT7amD8bzoKjjz469y7aTq8U3sGYbYx0O1Uddd/BomONXHLbYP1+mPT9Rb5O25gUdNSwtre0MbQxn3/+eeM97C/voK2/9n5/aGNitgMx87Y5t9qPpUdVl09cY7FrVWfu9eQdA1rezzUoVq5cudOgcAWyj33r7/oiItv3hOxrKS0Ns3LLpQ6Wu5RWq/zkkXXz0Zz9Vvfpur7gu/dqPnnIvX2VxjeH1A5gl4J8vrXQXW6dHOuLVwrydVuXI0eObNIjOXv0lc/km+I7aMpmbzs12lOUjzbmrwBgvlgn+qJn6j6FdzBmGyM5U9RRwz9kq5gmbht722237azD/iJfp21MCjrq1hNtDG2M3kkzcqe/vIOuHpvj/tDGxGwHYuZtGIdsY+lR1eUT21jsQurNTpO8Y8D3st944407DQpbGHffN6fcDazm3tPqeN26dd6IyzJUV69eHVQu9xlux0xOBw2rddO5xytWrMgZW+qou+liHvsCgrjz9nstX2yjvdfydVu/bkBGN+hQau9gkbydGu2pyUcb85fBburaF8fFDkTY63cwdhuTmo6aegndPvjgg7nfKjvIbn+Rr9M2Rpx6raN2XdHG0MYYR51xDPSXd9DWY3u/v7QxMduBmHnbrMv2Y+pR1eWLya6sztxryTsGtF66acDMVsPn7S+arlA69gUe1NJ6GjrtSx96zjfEXPl2sxKAz0sUMuXBF3hw4cKFbcungIGa0ytDbcqUKY0gfRMmTAjKx9cYu/f2Wr7YRnuv5bN1V/O1X3jhhUYAyyVLlrSsQ3WuzHtltopbYeeZ2jtol83e79RoT02+KrYxqqeNGzc24pPoS7HmpivwZagz1XVeSVfVuTH13+t3MHYbk5KO6rdXv6+LFy9ufOFQm2PqoWh75ZVX5toZxQAy6VOSz5TJt+20jVFevdZRWx7amLxjgDYmHVu7ym1MzHYgZt52+1G2H7Mtr7p8MdmV1Zl7LXnHgAqs5f5Mp8VsNafTFcY+1jx9k9Zsu12RYPny5bk89XXfjZJtlyNkf9myZbl8R4wY0QjEVXS/jGLfdAYtl1V0T9H5Z599Nvd8DSe3YwUU3eubE6MpHHb6XsunuUnXXHNNI2CWVnyYOXNmNnv27NJ/NwiIDMJZs2Zl6tQouJ/iSGzYsKEhZ6/lE2vpg3TG6Lq2+vLfauSJRnfY92jfrT/ln8o7aOuVu9+N0Z6KfFVtY1RXvlgBISOcfHMLpaeaSmV0oNfvYOw2RnKmoKOXX355bsSc2lJTD77tF198ke299965dsauv1Tk85XfPtdNG9NrHTVy0MbknQK0Mf9jQhuT142+7kvEbAdi5m3aj5BtLD2qunxiG4tdSL2ZNP3CMTB//vycUaFOse+ruiLyqwPndnZ0/Oabb5YaMAaKb6t8R40alctXnURf+nbO/fzzz41OnFtmefU1r8bNS9MhDj/88FxZxo8fn0vr3us73r59e6ZRD+7zNWznyy+/LMzz7rvvzt2jPLSsiP2cXstnlyV0X/Vq81Cnu+jeFOTTqA85Auwya//kk09urCrhK7u++LnpdezWn+5N4R30yWCf68ZoT0G+KrcxqifFHvHp25133lm4koraP9/KBDpn130K76BdnpD9dtoY5ZeCjt511125Ohw4cGD2+OOPN9WHkV+O6uOPPz53j1t/qchnyl207aaNSUFHaWPyHT/amL+Y0Mb8xSJWXyJmOxAz76I20Xc+lh5VXT6xjMXOV09F53aZY2DfffdtMg5CA+yp4FIG3zAvGZkaTi9jRcuuaTin+6XXGKJKVwQh5Pxrr73WVH6Tr6Y16Jll/5JVXiCl3WeffRqR7d1nagqAydPeapUBxVR47LHHMs0/0f7gwYNzafWFX15vN9/Q42nTpuXyVDlk9MmA1fD0Tz/9NHv33XezpUuXZgpyaJfT7Mtw0nAY97m9ls8tT6tjjTAwMmmruiu7JwX5tLybXWazL4eBnGUK2vnGG29kGm1z6qmnetPKiPdN00nhHSzjr2u0MWm3MWoXFIvF6KW9VfuoqS+a7yrH58svv9wY4VOUXsvlufqQwjvolqnsuN02JoV38KeffvI6kVWX5513Xvbwww83HPCKf6PRVUX199xzz+XqLwX5yupL17ppY3R/r3W06nYMbcxfHVvpG21MM49U2piY7UDMvFu1j+Z6TM5Vly8mO1M/rba7zDGgDqZrCLYqnH399ddfzy2rZudXtj98+PBMa2Pb+bW7765rX/a8Vtc0DN19vryTmpvf6t6i6xoe7+bZzvEvv/ySC45U9Kyy8/YSVPbzey2fXZaQfQ2ZteUcNmxYKd8U5Pvtt98y39xRW46y/UGDBpVOH+n1O9iq3mhj/rf2tOo4xTZG9afOf5kOhlzTSCaNkHH1IYV30C1T2XG7bYzySuEd9AW9Dak3k+bSSy/N1Z3hlIJ8piy+bbdtTK91tOp2jOqMNuavzjBtzF8szPucQhsTsx2ImbdhGLKNxbnq8oltLHYh9aY0u8QxICPOGAVmqy/hoYU06TQ3zjdc2uTp2yqadchcefOMoq2G6fvy7+Scz2jXczXnUl9d2s3zhhtuaJulT04FB3OjfoaWRUs1atSBL19zrtfymXKEbN1lGDUSotV9Kci3efPm7PTTT29bhzQKxTc1x5W5l++gWxb7mDbmL6eA3tlU2xjVmW+oXGg7o+lcZSOjUngHbb0s2++kjVF+KbyDGsFWNBqgrC41sq5V3JMU5PPVW1+1Mb3U0TrYMao72pj/dYhpY/KOgVTa0JjtQMy8fW1j0blYbXnV5eu1ju4Sx4CCD7nGgjzvRcpUdl7zwSZNmpTLz81fx5MnT862bNnS0XPcMhxyyCFBz/SVwz1XZLSbZyrAhm95LjcfTa/Qi2fu64vt1q1bG9GT1dF3n1d0fNppp7XlfOmlfKGMxo0bl5N/27ZtQaxTkE/xA0INdwXXKYsl4TLr1TvolsM+po0JcwwYZr3WUQ0lP/LII3PvWFEbI8fcvffeG7yqTK/lM5zLtt20MSm8g4ofENrRlENfX3L1taeMibmWgnymLGbbl22M8uyFjtbFjhFf2pg/M9oYv2NA+pFKGxOzHYiZt2kXW21jcq66fDHZldXbLnEMaM6E5jXb/0VDzssKa1/T8nqKLaDl9Y499thGRPYxY8Y0lsHSXOv169cHGSB2nmX7Cpw1d+7c7L777ssWLVrUJIstl7uvtLpHgfpULg3lk4FU9ixdUwddc/lvueWWxhSDI444oiGjGnoNxdR8cQUNbJVPp9c1ekDlVmwGfaXT0mKKj6Ah9QpopyFq8+bN63hFhl7L14qL5mK6dan5ta3uM9dTkE+Gu2TQKgMy4DWlRh0sxbyQc03TT0KXizNy2dtd/Q7az3b3aWP6XxujTqJilyhuir4kK8Cn9FMOLbXlGj2l9k/tpX4g3TpvdZzCO1hWxm7bGOWdwjuoOlQME7UpRx11VKP+NCJQDmO1PfoNVF2UsSi6loJ8pmwx2phdraN1s2NoY7qzY2hj+r4vYdoTexuzHYiZty1Dq/1YbXnV5RPXWOyK6myXOAaKHs75Ym8mbGCDDqAD6AA6gA6gA+gAOoAOoAPoADqwK3QAx8CfKNquUDSegZ6hA+gAOoAOoAPoADqADqAD6AA6kKYO4BjAMdDREE9e6DRfaOqFekEH0AF0AB1AB9ABdAAdQAfQgXZ1AMcAjgEcA+gAOoAOoAPoADqADqAD6AA6gA6gAzXWARwDNa78dr1IpMfziA6gA+gAOoAOoAPoADqADqAD6ED1dADHAI4BPIPoADqADqAD6AA6gA6gA+gAOoAOoAM11gEcAzWufDx91fP0UafUKTqADqAD6AA6gA6gA+gAOoAOtKsDOAZwDOAZRAfQAXQAHUAH0AF0AB1AB9ABdAAdqLEO4BioceW360UiPZ5HdAAdQAfQAXQAHUAH0AF0AB1AB6qnAzgGcAzgGUQH0AF0AB1AB9ABdAAdQAfQAXQAHaixDuAYqHHl4+mrnqePOqVO0QF0AB1AB9ABdAAdQAfQAXSgXR3IOQY4AQEIQAACEIAABCAAAQhAAAIQgAAEIAABCEAAAhCAAAQgAAEIQAACEIBAjQj8/9qgkyxnHI6/AAAAAElFTkSuQmCC\">"
      ]
    },
    {
      "cell_type": "code",
      "execution_count": null,
      "metadata": {
        "colab": {
          "base_uri": "https://localhost:8080/"
        },
        "id": "nVzWZs9mfKYb",
        "outputId": "6cdc4ace-d867-469a-c7d7-79b5eed3f64e"
      },
      "outputs": [
        {
          "name": "stdout",
          "output_type": "stream",
          "text": [
            "Overwriting main.c\n"
          ]
        }
      ],
      "source": [
        "%%writefile main.c\n",
        "#include <stdio.h>\n",
        "#include <stdlib.h>\n",
        "#include <stdint.h>\n",
        "#include <time.h>\n",
        "\n",
        "#define COUNT 10000000000\n",
        "#define SIZE 100000\n",
        "\n",
        "int main(int argc, char **argv)\n",
        "{\n",
        "    uint64_t vs[SIZE];\n",
        "    for (int i = 0; i < SIZE; i += 1) {\n",
        "        vs[i] = rand() & 0xFFFFFFFFFF;\n",
        "    }\n",
        "    uint8_t buf[SIZE * 5 + 3];\n",
        "\n",
        "    // 測定開始\n",
        "    clock_t start_clock, end_clock;\n",
        "    start_clock = clock();\n",
        "    for (size_t i = 0; i < COUNT/SIZE; i++) {\n",
        "        for (size_t idx = 0; idx < SIZE; idx++) {\n",
        "            *(uint64_t*)(buf + idx * 5) = vs[idx];\n",
        "        }\n",
        "    }\n",
        "    end_clock = clock();\n",
        "    // 測定終了\n",
        " \n",
        "    printf(\"%f sec\\n\", (double)(end_clock - start_clock) / CLOCKS_PER_SEC);\n",
        "    for (int i = 0; i < 5; i++) printf(\"%d \", buf[i]);\n",
        "    printf(\"\\n\");\n",
        "    uint64_t total = 0;\n",
        "    for (size_t i = 0; i < SIZE * 5; i += 1) {\n",
        "        total += buf[i];\n",
        "    }\n",
        "    printf(\"%lu\\n\", total); \n",
        "    return 0;\n",
        "}"
      ]
    },
    {
      "cell_type": "code",
      "execution_count": null,
      "metadata": {
        "colab": {
          "base_uri": "https://localhost:8080/"
        },
        "id": "HDNmO65FfKSs",
        "outputId": "91a50e21-0da8-478b-9840-df52a684c754"
      },
      "outputs": [
        {
          "name": "stdout",
          "output_type": "stream",
          "text": [
            "6.795405 sec\n",
            "103 69 139 107 0 \n",
            "44595596\n",
            "6.905677 sec\n",
            "103 69 139 107 0 \n",
            "44595596\n"
          ]
        }
      ],
      "source": [
        "!clang -Wall -Ofast main.c\n",
        "!./a.out\n",
        "!gcc -Wall -Ofast main.c\n",
        "!./a.out"
      ]
    },
    {
      "cell_type": "markdown",
      "metadata": {
        "id": "-eKt0G3hc9Z8"
      },
      "source": [
        "Goが12秒、Rustが8秒ですので、Rustより少し速い程度です。"
      ]
    },
    {
      "cell_type": "markdown",
      "metadata": {
        "id": "kWKlHa_dyVcX"
      },
      "source": [
        "### 5Nバイト配列から40bit整数の配列への変換"
      ]
    },
    {
      "cell_type": "markdown",
      "metadata": {
        "id": "Z7avANO_ds4G"
      },
      "source": [
        "5バイトずつのバイト配列から10万個の整数を読み出します。素朴な実装は以下になります。"
      ]
    },
    {
      "cell_type": "code",
      "execution_count": null,
      "metadata": {
        "colab": {
          "base_uri": "https://localhost:8080/"
        },
        "id": "fkPedFtEUB-D",
        "outputId": "a25d9b14-20e3-4937-92fc-17bfcd9a65a4"
      },
      "outputs": [
        {
          "name": "stdout",
          "output_type": "stream",
          "text": [
            "Overwriting main.c\n"
          ]
        }
      ],
      "source": [
        "%%writefile main.c\n",
        "#include <stdio.h>\n",
        "#include <stdlib.h>\n",
        "#include <stdint.h>\n",
        "#include <time.h>\n",
        "\n",
        "#define COUNT 10000000000\n",
        "#define SIZE 100000\n",
        "\n",
        "int main(int argc, char **argv)\n",
        "{\n",
        "    uint64_t vs[SIZE];\n",
        "    uint8_t buf[SIZE*5];\n",
        "    srand(0);\n",
        "    for (int i = 0; i < SIZE*5; i += 1) {\n",
        "        buf[i] = (uint8_t)rand();\n",
        "    }\n",
        "\n",
        "    // 測定開始\n",
        "    clock_t start_clock, end_clock;\n",
        "    start_clock = clock();\n",
        "    for (size_t i = 0; i < COUNT/SIZE; i++) {\n",
        "        for (size_t idx = 0; idx < SIZE; idx += 1) {\n",
        "            size_t idx5 = idx * 5;\n",
        "            uint8_t *b = buf + idx5;\n",
        "            uint64_t *v = vs + idx;\n",
        "            *v = 0;\n",
        "            for (size_t j = 0; j < 5; j++) {\n",
        "                *v += (uint64_t)(b[j]) << (8 * j);\n",
        "            }\n",
        "        }\n",
        "    }\n",
        "    end_clock = clock();\n",
        "    // 測定終了\n",
        " \n",
        "    printf(\"%f sec\\n\", (double)(end_clock - start_clock) / CLOCKS_PER_SEC);\n",
        "    printf(\"%lu\\n\", vs[0]);\n",
        "    uint64_t total = 0;\n",
        "    for (size_t i = 0; i < SIZE; i += 1) {\n",
        "        total += vs[i];\n",
        "    }\n",
        "    printf(\"%lu\\n\", total);\n",
        "    return 0;\n",
        "}"
      ]
    },
    {
      "cell_type": "code",
      "execution_count": null,
      "metadata": {
        "colab": {
          "base_uri": "https://localhost:8080/"
        },
        "id": "D0_RirCEUBu9",
        "outputId": "67ff25d2-7266-4294-dc48-4b09e2589c8d"
      },
      "outputs": [
        {
          "name": "stdout",
          "output_type": "stream",
          "text": [
            "15.320551 sec\n",
            "349828662887\n",
            "54993386919705396\n",
            "17.172466 sec\n",
            "349828662887\n",
            "54993386919705396\n"
          ]
        }
      ],
      "source": [
        "!clang -Wall -Ofast main.c\n",
        "!./a.out\n",
        "!gcc -Wall -Ofast main.c\n",
        "!./a.out"
      ]
    },
    {
      "cell_type": "markdown",
      "metadata": {
        "id": "9MGxcCOvUmpv"
      },
      "source": [
        "内側のfor文の展開"
      ]
    },
    {
      "cell_type": "code",
      "execution_count": null,
      "metadata": {
        "colab": {
          "base_uri": "https://localhost:8080/"
        },
        "id": "hgYjDdaivK8e",
        "outputId": "586d2e9f-3cbc-4ad2-b467-9530b5c647ac"
      },
      "outputs": [
        {
          "name": "stdout",
          "output_type": "stream",
          "text": [
            "Overwriting main.c\n"
          ]
        }
      ],
      "source": [
        "%%writefile main.c\n",
        "#include <stdio.h>\n",
        "#include <stdlib.h>\n",
        "#include <stdint.h>\n",
        "#include <time.h>\n",
        "\n",
        "#define COUNT 10000000000\n",
        "#define SIZE 100000\n",
        "\n",
        "int main(int argc, char **argv)\n",
        "{\n",
        "    uint64_t vs[SIZE];\n",
        "    uint8_t buf[SIZE*5];\n",
        "    srand(0);\n",
        "    for (int i = 0; i < SIZE*5; i += 1) {\n",
        "        buf[i] = (uint8_t)rand();\n",
        "    }\n",
        "\n",
        "    // 測定開始\n",
        "    clock_t start_clock, end_clock;\n",
        "    start_clock = clock();\n",
        "    for (size_t i = 0; i < COUNT/SIZE; i++) {\n",
        "        for (size_t idx = 0; idx < SIZE; idx += 1) {\n",
        "            size_t idx5 = idx * 5;\n",
        "            uint8_t *b = buf + idx5;\n",
        "            uint64_t *v = vs + idx;\n",
        "            *v = b[0];\n",
        "            *v += (uint64_t)(b[1]) << 8;\n",
        "            *v += (uint64_t)(b[2]) << 16;\n",
        "            *v += (uint64_t)(b[3]) << 24;\n",
        "            *v += (uint64_t)(b[4]) << 32;\n",
        "        }\n",
        "    }\n",
        "    end_clock = clock();\n",
        "    // 測定終了\n",
        " \n",
        "    printf(\"%f sec\\n\", (double)(end_clock - start_clock) / CLOCKS_PER_SEC);\n",
        "    printf(\"%lu\\n\", vs[0]);\n",
        "    uint64_t total = 0;\n",
        "    for (size_t i = 0; i < SIZE; i += 1) {\n",
        "        total += vs[i];\n",
        "    }\n",
        "    printf(\"%lu\\n\", total);\n",
        "    return 0;\n",
        "}"
      ]
    },
    {
      "cell_type": "code",
      "execution_count": null,
      "metadata": {
        "colab": {
          "base_uri": "https://localhost:8080/"
        },
        "id": "JBbMYMx8h1Tk",
        "outputId": "b987b2d7-794f-493c-e061-5b82534c6b91"
      },
      "outputs": [
        {
          "name": "stdout",
          "output_type": "stream",
          "text": [
            "15.340274 sec\n",
            "349828662887\n",
            "54993386919705396\n",
            "17.157028 sec\n",
            "349828662887\n",
            "54993386919705396\n"
          ]
        }
      ],
      "source": [
        "!clang -Wall -Ofast main.c\n",
        "!./a.out\n",
        "!gcc -Wall -Ofast main.c\n",
        "!./a.out"
      ]
    },
    {
      "cell_type": "markdown",
      "metadata": {
        "id": "iraleSJde9xm"
      },
      "source": [
        "Goが23秒、Rustが8秒ですので、間ぐらい。また、このコードでは、最適化によりfor文の展開が行われたようです。"
      ]
    },
    {
      "cell_type": "markdown",
      "metadata": {
        "id": "6blzZS9dhI3o"
      },
      "source": [
        "0xFFFFFFFFFFによるマスクの方法。"
      ]
    },
    {
      "cell_type": "code",
      "execution_count": null,
      "metadata": {
        "colab": {
          "base_uri": "https://localhost:8080/"
        },
        "id": "gP8Rd3_YkHdE",
        "outputId": "318b7f73-c1d2-4d07-fa58-0784a34b4067"
      },
      "outputs": [
        {
          "name": "stdout",
          "output_type": "stream",
          "text": [
            "Overwriting main.c\n"
          ]
        }
      ],
      "source": [
        "%%writefile main.c\n",
        "#include <stdio.h>\n",
        "#include <stdlib.h>\n",
        "#include <stdint.h>\n",
        "#include <time.h>\n",
        "\n",
        "#define COUNT 10000000000\n",
        "#define SIZE 100000\n",
        "\n",
        "int main(int argc, char **argv)\n",
        "{\n",
        "    uint64_t vs[SIZE];\n",
        "    uint8_t buf[SIZE*5];\n",
        "    srand(0);\n",
        "    for (int i = 0; i < SIZE*5; i += 1) {\n",
        "        buf[i] = (uint8_t)rand();\n",
        "    }\n",
        "\n",
        "    // 測定開始\n",
        "    clock_t start_clock, end_clock;\n",
        "    start_clock = clock();\n",
        "    for (size_t i = 0; i < COUNT/SIZE; i++) {\n",
        "        for (size_t idx = 0; idx < SIZE; idx += 1) {\n",
        "            vs[idx] = *(uint64_t*)(buf + idx * 5) & 0xFFFFFFFFFF;\n",
        "        }\n",
        "    }\n",
        "    end_clock = clock();\n",
        "    // 測定終了\n",
        " \n",
        "    printf(\"%f sec\\n\", (double)(end_clock - start_clock) / CLOCKS_PER_SEC);\n",
        "    printf(\"%lu\\n\", vs[0]);\n",
        "    uint64_t total = 0;\n",
        "    for (size_t i = 0; i < SIZE; i += 1) {\n",
        "        total += vs[i];\n",
        "    }\n",
        "    printf(\"%lu\\n\", total);\n",
        "    return 0;\n",
        "}"
      ]
    },
    {
      "cell_type": "code",
      "execution_count": null,
      "metadata": {
        "colab": {
          "base_uri": "https://localhost:8080/"
        },
        "id": "62sER7l5kHUN",
        "outputId": "497fca5d-33e5-4d5a-9555-299bf957cb29"
      },
      "outputs": [
        {
          "name": "stdout",
          "output_type": "stream",
          "text": [
            "5.520705 sec\n",
            "349828662887\n",
            "54993386919705396\n",
            "6.205896 sec\n",
            "349828662887\n",
            "54993386919705396\n"
          ]
        }
      ],
      "source": [
        "!clang -Wall -Ofast main.c\n",
        "!./a.out\n",
        "!gcc -Wall -Ofast main.c\n",
        "!./a.out"
      ]
    },
    {
      "cell_type": "markdown",
      "metadata": {
        "id": "mQGHjznFhccm"
      },
      "source": [
        "Goの最速が12秒、Rustが6.4秒ですから、Cでclangを使った場合が一番速くなりました。"
      ]
    },
    {
      "cell_type": "markdown",
      "metadata": {
        "id": "EuHAPQpklySB"
      },
      "source": [
        "## 結論\n",
        "\n",
        "整数を5バイトに押し込む簡単なお仕事に関してはCとRustは同程度、Goは約半分の速度。\n",
        "\n",
        "for文の展開はオプティマイザ任せにせずに自分でやっておいた方が無難。\n",
        "\n",
        "strict-aliasing rulesの違反は取り扱い注意だが、そこまで踏み込まないとRustに負ける。（といってもRustでもunsafe使ってるけど)"
      ]
    },
    {
      "cell_type": "markdown",
      "metadata": {
        "id": "kLXp8UdrjPwj"
      },
      "source": [
        "## 追記\n",
        "\n",
        "コメントにてコンパイラーの最適化を甘くみると痛い目にあうよというご指摘があったので、確かめてみます。"
      ]
    },
    {
      "cell_type": "markdown",
      "metadata": {
        "id": "WlReWIxzkQCh"
      },
      "source": [
        "colabに最初から用意されているgccは最新版ではなかったので、まずはgcc-11をインストールします。"
      ]
    },
    {
      "cell_type": "code",
      "execution_count": null,
      "metadata": {
        "id": "ohitB20obbek"
      },
      "outputs": [],
      "source": [
        "!add-apt-repository 'deb http://mirrors.kernel.org/ubuntu hirsute main universe'\n",
        "!apt update\n",
        "!apt-get install gcc-11"
      ]
    },
    {
      "cell_type": "markdown",
      "metadata": {
        "id": "au-phWDBkVvk"
      },
      "source": [
        "次に一番最初の素朴な実装"
      ]
    },
    {
      "cell_type": "code",
      "execution_count": null,
      "metadata": {
        "colab": {
          "base_uri": "https://localhost:8080/"
        },
        "id": "-nmuGzx9budg",
        "outputId": "a4135e32-ef8f-48f2-9300-eaf7b8b7aa24"
      },
      "outputs": [
        {
          "name": "stdout",
          "output_type": "stream",
          "text": [
            "Overwriting main.c\n"
          ]
        }
      ],
      "source": [
        "%%writefile main.c\n",
        "#include <stdio.h>\n",
        "#include <stdlib.h>\n",
        "#include <stdint.h>\n",
        "#include <time.h>\n",
        "\n",
        "#define COUNT 10000000000\n",
        "#define SIZE 100000\n",
        "\n",
        "int main(int argc, char **argv)\n",
        "{\n",
        "    uint64_t vs[SIZE];\n",
        "    for (int i = 0; i < SIZE; i += 1) {\n",
        "        vs[i] = rand();\n",
        "    }\n",
        "    uint8_t buf[SIZE][8];\n",
        "\n",
        "    // 計測開始\n",
        "    clock_t start_clock, end_clock;\n",
        "    start_clock = clock();\n",
        "    for (size_t i = 0; i < COUNT/SIZE; i++) {\n",
        "        for (size_t idx = 0; idx < SIZE; idx++) {\n",
        "            uint64_t v = vs[idx];\n",
        "            for (uint8_t j = 0; j < 8; j++) {\n",
        "                buf[idx][j] = v >> (8 * j);\n",
        "            }\n",
        "        }\n",
        "    }\n",
        "    end_clock = clock();\n",
        "    // 計測終了\n",
        "\n",
        "    printf(\"%f sec\\n\", (double)(end_clock - start_clock) / CLOCKS_PER_SEC);\n",
        "    for (int i = 0; i < 8; i++) printf(\"%d \", buf[0][i]);\n",
        "    printf(\"\\n\");\n",
        "    uint64_t total = 0;\n",
        "    for (size_t i = 0; i < SIZE; i += 1) {\n",
        "        for (size_t j = 0; j < 8; j += 1) {\n",
        "            total += buf[i][j];\n",
        "        }\n",
        "    }\n",
        "    printf(\"%lu\\n\", total); \n",
        "    return 0;\n",
        "}"
      ]
    },
    {
      "cell_type": "code",
      "execution_count": null,
      "metadata": {
        "colab": {
          "base_uri": "https://localhost:8080/"
        },
        "id": "HlVwtf3fjiFT",
        "outputId": "9a9cd020-f990-4e8b-9cb8-73d63400fece"
      },
      "outputs": [
        {
          "name": "stdout",
          "output_type": "stream",
          "text": [
            "0.000102 sec\n",
            "103 69 139 107 0 0 0 0 \n",
            "44595596\n"
          ]
        }
      ],
      "source": [
        "!gcc-11 -Wall -Ofast main.c\n",
        "!./a.out"
      ]
    },
    {
      "cell_type": "markdown",
      "metadata": {
        "id": "bjEmelIkkcRN"
      },
      "source": [
        "確かに！　最後のルーブのbufしか使っていないのが最新のコンパイラーに見抜かれてしまったようです。"
      ]
    },
    {
      "cell_type": "markdown",
      "metadata": {
        "id": "fZsmXGVwk4Tv"
      },
      "source": [
        "より慎重なのはこんなコードでしょうか。内側のループでvsの値が毎回異なるようにし、さらにvsの中身が乱数だということを悟られにくいように関数として切り出しました。そして全てのbufの値にアクセスして、使ってることをアピール。"
      ]
    },
    {
      "cell_type": "code",
      "execution_count": null,
      "metadata": {
        "colab": {
          "base_uri": "https://localhost:8080/"
        },
        "id": "dV46fLX8o3qM",
        "outputId": "24e975b6-44fb-417a-9b7b-861508db62e5"
      },
      "outputs": [
        {
          "name": "stdout",
          "output_type": "stream",
          "text": [
            "Overwriting main.c\n"
          ]
        }
      ],
      "source": [
        "%%writefile main.c\n",
        "#include <stdio.h>\n",
        "#include <stdlib.h>\n",
        "#include <stdint.h>\n",
        "#include <time.h>\n",
        "\n",
        "#define COUNT 10000000000\n",
        "#define SIZE 100000\n",
        "\n",
        "clock_t measure(const uint64_t vs[], uint8_t buf[][8]) {\n",
        "    clock_t start_clock = clock();\n",
        "    for (size_t idx = 0; idx < SIZE; idx++) {\n",
        "        uint64_t v = vs[idx];\n",
        "        for (uint8_t j = 0; j < 8; j++) {\n",
        "            buf[idx][j] = v >> (8 * j);\n",
        "        }\n",
        "    }\n",
        "    return clock() - start_clock;\n",
        "}\n",
        "\n",
        "int main(int argc, char **argv)\n",
        "{\n",
        "    uint64_t vs[SIZE];\n",
        "    uint8_t buf[SIZE][8];\n",
        "    uint64_t total = 0;\n",
        "    srand(0);\n",
        "\n",
        "    clock_t total_clock = 0;\n",
        "    for (size_t n = 0; n < COUNT/SIZE; n++) {\n",
        "        for (int i = 0; i < SIZE*5; i += 1) {\n",
        "            buf[i] = (uint8_t)rand();\n",
        "        }\n",
        "        total_clock += measure(vs, buf);\n",
        "        for (size_t i = 0; i < SIZE; i += 1) {\n",
        "            for (size_t j = 0; j < 8; j += 1) {\n",
        "                total += buf[i][j];\n",
        "            }\n",
        "        }        \n",
        "    }\n",
        "\n",
        "    printf(\"%f sec\\n\", (double)total_clock / CLOCKS_PER_SEC);\n",
        "    printf(\"%lu\\n\", total); \n",
        "    return 0;\n",
        "}"
      ]
    },
    {
      "cell_type": "code",
      "execution_count": null,
      "metadata": {
        "colab": {
          "base_uri": "https://localhost:8080/"
        },
        "id": "lAuy9s4Ajgw7",
        "outputId": "c52170db-2b57-44a5-a667-21153a6c04e6"
      },
      "outputs": [
        {
          "name": "stdout",
          "output_type": "stream",
          "text": [
            "28.786703 sec\n",
            "4459994566418\n",
            "CPU times: user 1.25 s, sys: 169 ms, total: 1.42 s\n",
            "Wall time: 2min 22s\n"
          ]
        }
      ],
      "source": [
        "%%time\n",
        "!gcc-11 -Wall -Ofast main.c\n",
        "!./a.out"
      ]
    },
    {
      "cell_type": "markdown",
      "metadata": {
        "id": "ARM-SmqMlzFK"
      },
      "source": [
        "それらしい計測値が得られました。\n",
        "\n",
        "実務で採用する場合は、意図しない最適化の影響を避けるため、関数化して実データを流し込んで比較する必要がありそうです。"
      ]
    },
    {
      "cell_type": "markdown",
      "metadata": {
        "id": "yHq6NnciwBNu"
      },
      "source": [
        "全てを関数化すると記事が長くなり過ぎてしまうので、最後のコードだけ書き換えてみました。"
      ]
    },
    {
      "cell_type": "code",
      "execution_count": null,
      "metadata": {
        "colab": {
          "base_uri": "https://localhost:8080/"
        },
        "id": "ukA2helxtd_K",
        "outputId": "d24a8ac0-84f3-4871-802f-9487f55dfa6e"
      },
      "outputs": [
        {
          "name": "stdout",
          "output_type": "stream",
          "text": [
            "Overwriting main.c\n"
          ]
        }
      ],
      "source": [
        "%%writefile main.c\n",
        "#include <stdio.h>\n",
        "#include <stdlib.h>\n",
        "#include <stdint.h>\n",
        "#include <time.h>\n",
        "\n",
        "#define COUNT 10000000000\n",
        "#define SIZE 100000\n",
        "\n",
        "clock_t measure(uint64_t vs[], const uint8_t buf[]) {\n",
        "    clock_t start_clock = clock();\n",
        "    for (size_t idx = 0; idx < SIZE; idx += 1) {\n",
        "        vs[idx] = *(uint64_t*)(buf + idx * 5) & 0xFFFFFFFFFF;\n",
        "    }\n",
        "    return clock() - start_clock;\n",
        "}\n",
        "\n",
        "int main(int argc, char **argv)\n",
        "{\n",
        "    uint64_t vs[SIZE];\n",
        "    uint8_t buf[SIZE*5];\n",
        "    uint64_t total = 0;\n",
        "    srand(0);\n",
        "\n",
        "    clock_t total_clock = 0;\n",
        "    for (size_t n = 0; n < COUNT/SIZE; n++) {\n",
        "        for (int i = 0; i < SIZE; i += 1) {\n",
        "            vs[i] = rand();\n",
        "        }\n",
        "        total_clock += measure(vs, buf);\n",
        "        for (size_t i = 0; i < SIZE; i += 1) {\n",
        "            total += vs[i];\n",
        "        }\n",
        "    }\n",
        "\n",
        "    printf(\"%f sec\\n\", (double)total_clock / CLOCKS_PER_SEC);\n",
        "    printf(\"%lu\\n\", total);\n",
        "    return 0;\n",
        "}"
      ]
    },
    {
      "cell_type": "code",
      "execution_count": null,
      "metadata": {
        "colab": {
          "base_uri": "https://localhost:8080/"
        },
        "id": "eofEObNpuLsG",
        "outputId": "2ee9002a-c148-4a9f-d114-417bd75d7fe4"
      },
      "outputs": [
        {
          "name": "stdout",
          "output_type": "stream",
          "text": [
            "7.870699 sec\n",
            "15006865253178248384\n",
            "CPU times: user 1.11 s, sys: 142 ms, total: 1.25 s\n",
            "Wall time: 2min 3s\n"
          ]
        }
      ],
      "source": [
        "%%time\n",
        "!gcc-11 -Wall -Ofast main.c\n",
        "!./a.out"
      ]
    },
    {
      "cell_type": "markdown",
      "metadata": {
        "id": "6EDt1mS0wORi"
      },
      "source": [
        "細切れの時間計測を合計するので、誤差が増幅している可能性もあります。処理速度計測は一筋縄ではいきませんね。"
      ]
    }
  ],
  "metadata": {
    "colab": {
      "name": "CUint40.ipynb",
      "provenance": []
    },
    "kernelspec": {
      "display_name": "Python 3",
      "name": "python3"
    },
    "language_info": {
      "name": "python",
      "version": "2.7.16"
    }
  },
  "nbformat": 4,
  "nbformat_minor": 0
}